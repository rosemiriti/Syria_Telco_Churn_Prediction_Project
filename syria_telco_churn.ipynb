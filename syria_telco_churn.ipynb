{
 "cells": [
  {
   "cell_type": "markdown",
   "metadata": {},
   "source": [
    "# SyriaTel Customer Churn Analysis & Prediction\n",
    "\n",
    "---\n",
    "\n",
    "### **Author:** Rose Miriti"
   ]
  },
  {
   "cell_type": "markdown",
   "metadata": {},
   "source": [
    "### Problem Statement\n",
    "\n",
    "Customer churn is impacting SyriaTel’s revenue. Each subscriber who leaves reduces Average Revenue Per User (ARPU) and incurs additional acquisition costs. In a market characterized by strong competition and low switching barriers, even a modest increase in churn can substantially impact profitability.\n",
    "\n",
    "In this notebook, churn is framed as a binary classification task: predicting which customers are likely to discontinue service within our target window as early identification of at risk subscribers will enable SyriaTel’s retention team to deploy targeted offers or service adjustments before cancellation occurs.\n",
    "\n",
    "### Stakeholders   \n",
    "- **Customer Retention Team:** needs to know which customers to target with retention offers  \n",
    "- **Marketing Department:** wants to allocate budget efficiently on high-risk segments  \n",
    "- **Finance & Executive Leadership:** cares about the financial impact of reducing churn ie monitors ROI of retention efforts and P&L impact  \n",
    "\n",
    "### Specific Objectives  \n",
    "1. Load and clean the SyriaTel churn dataset, ensuring all key fields (tenure, billing, service calls, geography, etc.) are ready for analysis.  \n",
    "2. Explore and visualize relationships between customer attributes and churn to uncover the strongest risk factors.  \n",
    "3. Engineer new features such as support call counts, usage ratios, tenure buckets, and region level flags to boost model signal.  \n",
    "4. Build and compare classification models (logistic regression, random forest, gradient boosting) to find the best predictor of churn.  \n",
    "\n",
    "### Research Questions  \n",
    "1. Does a high volume of calls or tickets correlate with higher churn risk?  \n",
    "2. How does actual usage (minutes, texts, data) versus plan allowance predict churn?  \n",
    "3. Are there specific regions or ZIP codes where churn is significantly above average?  \n",
    "4. How do contract length and tenure buckets (e.g. 0–6 mo, 6–12 mo, > 12 mo) interact to affect churn probability?  \n",
    "5. Can we derive other early warning features (e.g. months since last plan change, add-on uptake, billing anomalies)?  \n",
    "\n",
    "### Success Metrics  \n",
    "- **Recall ≥ 80%** on the churn class, so we catch most customers who actually leave.  \n",
    "- **ROC-AUC ≥ 0.75**, indicating strong separation between churners and stayers.  \n",
    "- In production, these predictions should contribute to a **5% net reduction in churn** over six months.  \n",
    "\n",
    "### Implications  \n",
    "By achieving a recall of 80 % or higher, SyriaTel can proactively target at least four‑fifths of likely churners with retention offers potentially preserving millions in annual revenue. An ROC‑AUC above 0.75 will give confidence in model reliability, and an approximate 5 % reduction in churn translates directly into lower customer acquisition costs and stronger lifetime value.\n",
    "\n",
    "With these targets met, SyriaTel’s retention and marketing teams can allocate resources more effectively, and Finance will realize measurable improvements in profitability."
   ]
  },
  {
   "cell_type": "markdown",
   "metadata": {},
   "source": [
    "---\n",
    "\n",
    "## 2. Data Understanding\n",
    "\n",
    "In this section we will:\n",
    "\n",
    "1. Load the [`syria_telco_churn.csv`](https://www.kaggle.com/datasets/becksddf/churn-in-telecoms-dataset) file.  \n",
    "2. Inspect its shape, column types and sample rows.  \n",
    "3. Check for missing values and duplicates.  "
   ]
  },
  {
   "cell_type": "code",
   "execution_count": 2,
   "metadata": {},
   "outputs": [],
   "source": [
    "# Importing the necessary libraries needed to load, clean, analyze, visulize, modelling the data \n",
    "import pandas as pd\n",
    "import numpy as np\n",
    "import matplotlib.pyplot as plt\n",
    "import seaborn as sns\n",
    "from sklearn.model_selection import train_test_split, GridSearchCV, cross_val_score\n",
    "from sklearn.preprocessing import LabelEncoder, StandardScaler, OneHotEncoder, KBinsDiscretizer, FunctionTransformer\n",
    "from sklearn.linear_model import LogisticRegression, LogisticRegressionCV\n",
    "from sklearn.ensemble import RandomForestClassifier, GradientBoostingClassifier, HistGradientBoostingClassifier\n",
    "from sklearn.neighbors import KNeighborsClassifier\n",
    "from sklearn.metrics import accuracy_score, recall_score, roc_auc_score, confusion_matrix, ConfusionMatrixDisplay, classification_report,roc_curve, precision_score, f1_score, roc_curve, auc, RocCurveDisplay, PrecisionRecallDisplay\n",
    "from sklearn.tree import DecisionTreeClassifier\n",
    "from sklearn.inspection import permutation_importance\n",
    "from sklearn.pipeline import Pipeline\n",
    "from sklearn.compose import ColumnTransformer\n",
    "import warnings\n",
    "warnings.filterwarnings('ignore')\n",
    "%matplotlib inline\n",
    "sns.set_style('whitegrid')"
   ]
  },
  {
   "cell_type": "code",
   "execution_count": 31,
   "metadata": {},
   "outputs": [
    {
     "data": {
      "application/vnd.microsoft.datawrangler.viewer.v0+json": {
       "columns": [
        {
         "name": "index",
         "rawType": "int64",
         "type": "integer"
        },
        {
         "name": "state",
         "rawType": "object",
         "type": "string"
        },
        {
         "name": "account length",
         "rawType": "int64",
         "type": "integer"
        },
        {
         "name": "area code",
         "rawType": "int64",
         "type": "integer"
        },
        {
         "name": "phone number",
         "rawType": "object",
         "type": "string"
        },
        {
         "name": "international plan",
         "rawType": "object",
         "type": "string"
        },
        {
         "name": "voice mail plan",
         "rawType": "object",
         "type": "string"
        },
        {
         "name": "number vmail messages",
         "rawType": "int64",
         "type": "integer"
        },
        {
         "name": "total day minutes",
         "rawType": "float64",
         "type": "float"
        },
        {
         "name": "total day calls",
         "rawType": "int64",
         "type": "integer"
        },
        {
         "name": "total day charge",
         "rawType": "float64",
         "type": "float"
        },
        {
         "name": "total eve minutes",
         "rawType": "float64",
         "type": "float"
        },
        {
         "name": "total eve calls",
         "rawType": "int64",
         "type": "integer"
        },
        {
         "name": "total eve charge",
         "rawType": "float64",
         "type": "float"
        },
        {
         "name": "total night minutes",
         "rawType": "float64",
         "type": "float"
        },
        {
         "name": "total night calls",
         "rawType": "int64",
         "type": "integer"
        },
        {
         "name": "total night charge",
         "rawType": "float64",
         "type": "float"
        },
        {
         "name": "total intl minutes",
         "rawType": "float64",
         "type": "float"
        },
        {
         "name": "total intl calls",
         "rawType": "int64",
         "type": "integer"
        },
        {
         "name": "total intl charge",
         "rawType": "float64",
         "type": "float"
        },
        {
         "name": "customer service calls",
         "rawType": "int64",
         "type": "integer"
        },
        {
         "name": "churn",
         "rawType": "bool",
         "type": "boolean"
        }
       ],
       "ref": "60a7afdd-6d2d-4e6d-b195-d6e44b86ce48",
       "rows": [
        [
         "0",
         "KS",
         "128",
         "415",
         "382-4657",
         "no",
         "yes",
         "25",
         "265.1",
         "110",
         "45.07",
         "197.4",
         "99",
         "16.78",
         "244.7",
         "91",
         "11.01",
         "10.0",
         "3",
         "2.7",
         "1",
         "False"
        ],
        [
         "1",
         "OH",
         "107",
         "415",
         "371-7191",
         "no",
         "yes",
         "26",
         "161.6",
         "123",
         "27.47",
         "195.5",
         "103",
         "16.62",
         "254.4",
         "103",
         "11.45",
         "13.7",
         "3",
         "3.7",
         "1",
         "False"
        ],
        [
         "2",
         "NJ",
         "137",
         "415",
         "358-1921",
         "no",
         "no",
         "0",
         "243.4",
         "114",
         "41.38",
         "121.2",
         "110",
         "10.3",
         "162.6",
         "104",
         "7.32",
         "12.2",
         "5",
         "3.29",
         "0",
         "False"
        ],
        [
         "3",
         "OH",
         "84",
         "408",
         "375-9999",
         "yes",
         "no",
         "0",
         "299.4",
         "71",
         "50.9",
         "61.9",
         "88",
         "5.26",
         "196.9",
         "89",
         "8.86",
         "6.6",
         "7",
         "1.78",
         "2",
         "False"
        ],
        [
         "4",
         "OK",
         "75",
         "415",
         "330-6626",
         "yes",
         "no",
         "0",
         "166.7",
         "113",
         "28.34",
         "148.3",
         "122",
         "12.61",
         "186.9",
         "121",
         "8.41",
         "10.1",
         "3",
         "2.73",
         "3",
         "False"
        ]
       ],
       "shape": {
        "columns": 21,
        "rows": 5
       }
      },
      "text/html": [
       "<div>\n",
       "<style scoped>\n",
       "    .dataframe tbody tr th:only-of-type {\n",
       "        vertical-align: middle;\n",
       "    }\n",
       "\n",
       "    .dataframe tbody tr th {\n",
       "        vertical-align: top;\n",
       "    }\n",
       "\n",
       "    .dataframe thead th {\n",
       "        text-align: right;\n",
       "    }\n",
       "</style>\n",
       "<table border=\"1\" class=\"dataframe\">\n",
       "  <thead>\n",
       "    <tr style=\"text-align: right;\">\n",
       "      <th></th>\n",
       "      <th>state</th>\n",
       "      <th>account length</th>\n",
       "      <th>area code</th>\n",
       "      <th>phone number</th>\n",
       "      <th>international plan</th>\n",
       "      <th>voice mail plan</th>\n",
       "      <th>number vmail messages</th>\n",
       "      <th>total day minutes</th>\n",
       "      <th>total day calls</th>\n",
       "      <th>total day charge</th>\n",
       "      <th>...</th>\n",
       "      <th>total eve calls</th>\n",
       "      <th>total eve charge</th>\n",
       "      <th>total night minutes</th>\n",
       "      <th>total night calls</th>\n",
       "      <th>total night charge</th>\n",
       "      <th>total intl minutes</th>\n",
       "      <th>total intl calls</th>\n",
       "      <th>total intl charge</th>\n",
       "      <th>customer service calls</th>\n",
       "      <th>churn</th>\n",
       "    </tr>\n",
       "  </thead>\n",
       "  <tbody>\n",
       "    <tr>\n",
       "      <th>0</th>\n",
       "      <td>KS</td>\n",
       "      <td>128</td>\n",
       "      <td>415</td>\n",
       "      <td>382-4657</td>\n",
       "      <td>no</td>\n",
       "      <td>yes</td>\n",
       "      <td>25</td>\n",
       "      <td>265.1</td>\n",
       "      <td>110</td>\n",
       "      <td>45.07</td>\n",
       "      <td>...</td>\n",
       "      <td>99</td>\n",
       "      <td>16.78</td>\n",
       "      <td>244.7</td>\n",
       "      <td>91</td>\n",
       "      <td>11.01</td>\n",
       "      <td>10.0</td>\n",
       "      <td>3</td>\n",
       "      <td>2.70</td>\n",
       "      <td>1</td>\n",
       "      <td>False</td>\n",
       "    </tr>\n",
       "    <tr>\n",
       "      <th>1</th>\n",
       "      <td>OH</td>\n",
       "      <td>107</td>\n",
       "      <td>415</td>\n",
       "      <td>371-7191</td>\n",
       "      <td>no</td>\n",
       "      <td>yes</td>\n",
       "      <td>26</td>\n",
       "      <td>161.6</td>\n",
       "      <td>123</td>\n",
       "      <td>27.47</td>\n",
       "      <td>...</td>\n",
       "      <td>103</td>\n",
       "      <td>16.62</td>\n",
       "      <td>254.4</td>\n",
       "      <td>103</td>\n",
       "      <td>11.45</td>\n",
       "      <td>13.7</td>\n",
       "      <td>3</td>\n",
       "      <td>3.70</td>\n",
       "      <td>1</td>\n",
       "      <td>False</td>\n",
       "    </tr>\n",
       "    <tr>\n",
       "      <th>2</th>\n",
       "      <td>NJ</td>\n",
       "      <td>137</td>\n",
       "      <td>415</td>\n",
       "      <td>358-1921</td>\n",
       "      <td>no</td>\n",
       "      <td>no</td>\n",
       "      <td>0</td>\n",
       "      <td>243.4</td>\n",
       "      <td>114</td>\n",
       "      <td>41.38</td>\n",
       "      <td>...</td>\n",
       "      <td>110</td>\n",
       "      <td>10.30</td>\n",
       "      <td>162.6</td>\n",
       "      <td>104</td>\n",
       "      <td>7.32</td>\n",
       "      <td>12.2</td>\n",
       "      <td>5</td>\n",
       "      <td>3.29</td>\n",
       "      <td>0</td>\n",
       "      <td>False</td>\n",
       "    </tr>\n",
       "    <tr>\n",
       "      <th>3</th>\n",
       "      <td>OH</td>\n",
       "      <td>84</td>\n",
       "      <td>408</td>\n",
       "      <td>375-9999</td>\n",
       "      <td>yes</td>\n",
       "      <td>no</td>\n",
       "      <td>0</td>\n",
       "      <td>299.4</td>\n",
       "      <td>71</td>\n",
       "      <td>50.90</td>\n",
       "      <td>...</td>\n",
       "      <td>88</td>\n",
       "      <td>5.26</td>\n",
       "      <td>196.9</td>\n",
       "      <td>89</td>\n",
       "      <td>8.86</td>\n",
       "      <td>6.6</td>\n",
       "      <td>7</td>\n",
       "      <td>1.78</td>\n",
       "      <td>2</td>\n",
       "      <td>False</td>\n",
       "    </tr>\n",
       "    <tr>\n",
       "      <th>4</th>\n",
       "      <td>OK</td>\n",
       "      <td>75</td>\n",
       "      <td>415</td>\n",
       "      <td>330-6626</td>\n",
       "      <td>yes</td>\n",
       "      <td>no</td>\n",
       "      <td>0</td>\n",
       "      <td>166.7</td>\n",
       "      <td>113</td>\n",
       "      <td>28.34</td>\n",
       "      <td>...</td>\n",
       "      <td>122</td>\n",
       "      <td>12.61</td>\n",
       "      <td>186.9</td>\n",
       "      <td>121</td>\n",
       "      <td>8.41</td>\n",
       "      <td>10.1</td>\n",
       "      <td>3</td>\n",
       "      <td>2.73</td>\n",
       "      <td>3</td>\n",
       "      <td>False</td>\n",
       "    </tr>\n",
       "  </tbody>\n",
       "</table>\n",
       "<p>5 rows × 21 columns</p>\n",
       "</div>"
      ],
      "text/plain": [
       "  state  account length  area code phone number international plan  \\\n",
       "0    KS             128        415     382-4657                 no   \n",
       "1    OH             107        415     371-7191                 no   \n",
       "2    NJ             137        415     358-1921                 no   \n",
       "3    OH              84        408     375-9999                yes   \n",
       "4    OK              75        415     330-6626                yes   \n",
       "\n",
       "  voice mail plan  number vmail messages  total day minutes  total day calls  \\\n",
       "0             yes                     25              265.1              110   \n",
       "1             yes                     26              161.6              123   \n",
       "2              no                      0              243.4              114   \n",
       "3              no                      0              299.4               71   \n",
       "4              no                      0              166.7              113   \n",
       "\n",
       "   total day charge  ...  total eve calls  total eve charge  \\\n",
       "0             45.07  ...               99             16.78   \n",
       "1             27.47  ...              103             16.62   \n",
       "2             41.38  ...              110             10.30   \n",
       "3             50.90  ...               88              5.26   \n",
       "4             28.34  ...              122             12.61   \n",
       "\n",
       "   total night minutes  total night calls  total night charge  \\\n",
       "0                244.7                 91               11.01   \n",
       "1                254.4                103               11.45   \n",
       "2                162.6                104                7.32   \n",
       "3                196.9                 89                8.86   \n",
       "4                186.9                121                8.41   \n",
       "\n",
       "   total intl minutes  total intl calls  total intl charge  \\\n",
       "0                10.0                 3               2.70   \n",
       "1                13.7                 3               3.70   \n",
       "2                12.2                 5               3.29   \n",
       "3                 6.6                 7               1.78   \n",
       "4                10.1                 3               2.73   \n",
       "\n",
       "   customer service calls  churn  \n",
       "0                       1  False  \n",
       "1                       1  False  \n",
       "2                       0  False  \n",
       "3                       2  False  \n",
       "4                       3  False  \n",
       "\n",
       "[5 rows x 21 columns]"
      ]
     },
     "execution_count": 31,
     "metadata": {},
     "output_type": "execute_result"
    }
   ],
   "source": [
    "# Loading and previewing the data\n",
    "df_churn = pd.read_csv('syria_telco_churn.csv')\n",
    "\n",
    "# Looks at the first five rows\n",
    "df_churn.head()"
   ]
  },
  {
   "cell_type": "markdown",
   "metadata": {},
   "source": [
    "### Data Inspection\n",
    "- First, I checked the shape of each dataset, the column names, data types, missing values, duplicate rows, and summary statistics using `.shape`, `.columns`, `.dtypes`, and `.describe()` methods.\n",
    "- To streamline this process, I created a function that runs all methods at once and returns an overview for each, avoiding the need to check them one by one.\n",
    "-I’ll use the function, `inspect_df`, to print:\n",
    "\n",
    " 1 Number of rows & columns  \n",
    " 2 Column names & data types  \n",
    " 3 Descriptive statistics  \n",
    " 4 Missing value counts  \n",
    " 5 Duplicate row counts  \n",
    "\n",
    "This gives me a fast, reproducible overview of the dataset loaded to determine areas that need cleaning, standardization, or manipulation to fit the purpose of my analysis."
   ]
  },
  {
   "cell_type": "code",
   "execution_count": 32,
   "metadata": {},
   "outputs": [
    {
     "name": "stdout",
     "output_type": "stream",
     "text": [
      "\n",
      "=== Inspecting: df_churn ===\n",
      "Shape: (3333, 21)\n",
      "Columns: ['state', 'account length', 'area code', 'phone number', 'international plan', 'voice mail plan', 'number vmail messages', 'total day minutes', 'total day calls', 'total day charge', 'total eve minutes', 'total eve calls', 'total eve charge', 'total night minutes', 'total night calls', 'total night charge', 'total intl minutes', 'total intl calls', 'total intl charge', 'customer service calls', 'churn']\n",
      "\n",
      "Data Types:\n",
      "state                      object\n",
      "account length              int64\n",
      "area code                   int64\n",
      "phone number               object\n",
      "international plan         object\n",
      "voice mail plan            object\n",
      "number vmail messages       int64\n",
      "total day minutes         float64\n",
      "total day calls             int64\n",
      "total day charge          float64\n",
      "total eve minutes         float64\n",
      "total eve calls             int64\n",
      "total eve charge          float64\n",
      "total night minutes       float64\n",
      "total night calls           int64\n",
      "total night charge        float64\n",
      "total intl minutes        float64\n",
      "total intl calls            int64\n",
      "total intl charge         float64\n",
      "customer service calls      int64\n",
      "churn                        bool\n",
      "dtype: object\n",
      "\n",
      "Descriptive Statistics:\n"
     ]
    },
    {
     "data": {
      "application/vnd.microsoft.datawrangler.viewer.v0+json": {
       "columns": [
        {
         "name": "index",
         "rawType": "object",
         "type": "string"
        },
        {
         "name": "state",
         "rawType": "object",
         "type": "unknown"
        },
        {
         "name": "account length",
         "rawType": "float64",
         "type": "float"
        },
        {
         "name": "area code",
         "rawType": "float64",
         "type": "float"
        },
        {
         "name": "phone number",
         "rawType": "object",
         "type": "unknown"
        },
        {
         "name": "international plan",
         "rawType": "object",
         "type": "unknown"
        },
        {
         "name": "voice mail plan",
         "rawType": "object",
         "type": "unknown"
        },
        {
         "name": "number vmail messages",
         "rawType": "float64",
         "type": "float"
        },
        {
         "name": "total day minutes",
         "rawType": "float64",
         "type": "float"
        },
        {
         "name": "total day calls",
         "rawType": "float64",
         "type": "float"
        },
        {
         "name": "total day charge",
         "rawType": "float64",
         "type": "float"
        },
        {
         "name": "total eve minutes",
         "rawType": "float64",
         "type": "float"
        },
        {
         "name": "total eve calls",
         "rawType": "float64",
         "type": "float"
        },
        {
         "name": "total eve charge",
         "rawType": "float64",
         "type": "float"
        },
        {
         "name": "total night minutes",
         "rawType": "float64",
         "type": "float"
        },
        {
         "name": "total night calls",
         "rawType": "float64",
         "type": "float"
        },
        {
         "name": "total night charge",
         "rawType": "float64",
         "type": "float"
        },
        {
         "name": "total intl minutes",
         "rawType": "float64",
         "type": "float"
        },
        {
         "name": "total intl calls",
         "rawType": "float64",
         "type": "float"
        },
        {
         "name": "total intl charge",
         "rawType": "float64",
         "type": "float"
        },
        {
         "name": "customer service calls",
         "rawType": "float64",
         "type": "float"
        },
        {
         "name": "churn",
         "rawType": "object",
         "type": "unknown"
        }
       ],
       "ref": "2fea617a-75cc-4b37-958a-7512db8830d7",
       "rows": [
        [
         "count",
         "3333",
         "3333.0",
         "3333.0",
         "3333",
         "3333",
         "3333",
         "3333.0",
         "3333.0",
         "3333.0",
         "3333.0",
         "3333.0",
         "3333.0",
         "3333.0",
         "3333.0",
         "3333.0",
         "3333.0",
         "3333.0",
         "3333.0",
         "3333.0",
         "3333.0",
         "3333"
        ],
        [
         "unique",
         "51",
         null,
         null,
         "3333",
         "2",
         "2",
         null,
         null,
         null,
         null,
         null,
         null,
         null,
         null,
         null,
         null,
         null,
         null,
         null,
         null,
         "2"
        ],
        [
         "top",
         "WV",
         null,
         null,
         "382-4657",
         "no",
         "no",
         null,
         null,
         null,
         null,
         null,
         null,
         null,
         null,
         null,
         null,
         null,
         null,
         null,
         null,
         "False"
        ],
        [
         "freq",
         "106",
         null,
         null,
         "1",
         "3010",
         "2411",
         null,
         null,
         null,
         null,
         null,
         null,
         null,
         null,
         null,
         null,
         null,
         null,
         null,
         null,
         "2850"
        ],
        [
         "mean",
         null,
         "101.06480648064806",
         "437.18241824182417",
         null,
         null,
         null,
         "8.099009900990099",
         "179.77509750975094",
         "100.43564356435644",
         "30.562307230723075",
         "200.98034803480348",
         "100.11431143114311",
         "17.083540354035403",
         "200.87203720372037",
         "100.10771077107711",
         "9.03932493249325",
         "10.237293729372938",
         "4.4794479447944795",
         "2.7645814581458144",
         "1.5628562856285628",
         null
        ],
        [
         "std",
         null,
         "39.822105928595604",
         "42.371290485606224",
         null,
         null,
         null,
         "13.68836537203884",
         "54.46738920237142",
         "20.069084207300854",
         "9.259434553930507",
         "50.71384442581193",
         "19.92262529394309",
         "4.310667643110339",
         "50.5738470136583",
         "19.568609346058615",
         "2.2758728376600317",
         "2.7918395484084204",
         "2.4612142705460887",
         "0.7537726126630453",
         "1.3154910448664843",
         null
        ],
        [
         "min",
         null,
         "1.0",
         "408.0",
         null,
         null,
         null,
         "0.0",
         "0.0",
         "0.0",
         "0.0",
         "0.0",
         "0.0",
         "0.0",
         "23.2",
         "33.0",
         "1.04",
         "0.0",
         "0.0",
         "0.0",
         "0.0",
         null
        ],
        [
         "25%",
         null,
         "74.0",
         "408.0",
         null,
         null,
         null,
         "0.0",
         "143.7",
         "87.0",
         "24.43",
         "166.6",
         "87.0",
         "14.16",
         "167.0",
         "87.0",
         "7.52",
         "8.5",
         "3.0",
         "2.3",
         "1.0",
         null
        ],
        [
         "50%",
         null,
         "101.0",
         "415.0",
         null,
         null,
         null,
         "0.0",
         "179.4",
         "101.0",
         "30.5",
         "201.4",
         "100.0",
         "17.12",
         "201.2",
         "100.0",
         "9.05",
         "10.3",
         "4.0",
         "2.78",
         "1.0",
         null
        ],
        [
         "75%",
         null,
         "127.0",
         "510.0",
         null,
         null,
         null,
         "20.0",
         "216.4",
         "114.0",
         "36.79",
         "235.3",
         "114.0",
         "20.0",
         "235.3",
         "113.0",
         "10.59",
         "12.1",
         "6.0",
         "3.27",
         "2.0",
         null
        ],
        [
         "max",
         null,
         "243.0",
         "510.0",
         null,
         null,
         null,
         "51.0",
         "350.8",
         "165.0",
         "59.64",
         "363.7",
         "170.0",
         "30.91",
         "395.0",
         "175.0",
         "17.77",
         "20.0",
         "20.0",
         "5.4",
         "9.0",
         null
        ]
       ],
       "shape": {
        "columns": 21,
        "rows": 11
       }
      },
      "text/html": [
       "<div>\n",
       "<style scoped>\n",
       "    .dataframe tbody tr th:only-of-type {\n",
       "        vertical-align: middle;\n",
       "    }\n",
       "\n",
       "    .dataframe tbody tr th {\n",
       "        vertical-align: top;\n",
       "    }\n",
       "\n",
       "    .dataframe thead th {\n",
       "        text-align: right;\n",
       "    }\n",
       "</style>\n",
       "<table border=\"1\" class=\"dataframe\">\n",
       "  <thead>\n",
       "    <tr style=\"text-align: right;\">\n",
       "      <th></th>\n",
       "      <th>state</th>\n",
       "      <th>account length</th>\n",
       "      <th>area code</th>\n",
       "      <th>phone number</th>\n",
       "      <th>international plan</th>\n",
       "      <th>voice mail plan</th>\n",
       "      <th>number vmail messages</th>\n",
       "      <th>total day minutes</th>\n",
       "      <th>total day calls</th>\n",
       "      <th>total day charge</th>\n",
       "      <th>...</th>\n",
       "      <th>total eve calls</th>\n",
       "      <th>total eve charge</th>\n",
       "      <th>total night minutes</th>\n",
       "      <th>total night calls</th>\n",
       "      <th>total night charge</th>\n",
       "      <th>total intl minutes</th>\n",
       "      <th>total intl calls</th>\n",
       "      <th>total intl charge</th>\n",
       "      <th>customer service calls</th>\n",
       "      <th>churn</th>\n",
       "    </tr>\n",
       "  </thead>\n",
       "  <tbody>\n",
       "    <tr>\n",
       "      <th>count</th>\n",
       "      <td>3333</td>\n",
       "      <td>3333.000000</td>\n",
       "      <td>3333.000000</td>\n",
       "      <td>3333</td>\n",
       "      <td>3333</td>\n",
       "      <td>3333</td>\n",
       "      <td>3333.000000</td>\n",
       "      <td>3333.000000</td>\n",
       "      <td>3333.000000</td>\n",
       "      <td>3333.000000</td>\n",
       "      <td>...</td>\n",
       "      <td>3333.000000</td>\n",
       "      <td>3333.000000</td>\n",
       "      <td>3333.000000</td>\n",
       "      <td>3333.000000</td>\n",
       "      <td>3333.000000</td>\n",
       "      <td>3333.000000</td>\n",
       "      <td>3333.000000</td>\n",
       "      <td>3333.000000</td>\n",
       "      <td>3333.000000</td>\n",
       "      <td>3333</td>\n",
       "    </tr>\n",
       "    <tr>\n",
       "      <th>unique</th>\n",
       "      <td>51</td>\n",
       "      <td>NaN</td>\n",
       "      <td>NaN</td>\n",
       "      <td>3333</td>\n",
       "      <td>2</td>\n",
       "      <td>2</td>\n",
       "      <td>NaN</td>\n",
       "      <td>NaN</td>\n",
       "      <td>NaN</td>\n",
       "      <td>NaN</td>\n",
       "      <td>...</td>\n",
       "      <td>NaN</td>\n",
       "      <td>NaN</td>\n",
       "      <td>NaN</td>\n",
       "      <td>NaN</td>\n",
       "      <td>NaN</td>\n",
       "      <td>NaN</td>\n",
       "      <td>NaN</td>\n",
       "      <td>NaN</td>\n",
       "      <td>NaN</td>\n",
       "      <td>2</td>\n",
       "    </tr>\n",
       "    <tr>\n",
       "      <th>top</th>\n",
       "      <td>WV</td>\n",
       "      <td>NaN</td>\n",
       "      <td>NaN</td>\n",
       "      <td>382-4657</td>\n",
       "      <td>no</td>\n",
       "      <td>no</td>\n",
       "      <td>NaN</td>\n",
       "      <td>NaN</td>\n",
       "      <td>NaN</td>\n",
       "      <td>NaN</td>\n",
       "      <td>...</td>\n",
       "      <td>NaN</td>\n",
       "      <td>NaN</td>\n",
       "      <td>NaN</td>\n",
       "      <td>NaN</td>\n",
       "      <td>NaN</td>\n",
       "      <td>NaN</td>\n",
       "      <td>NaN</td>\n",
       "      <td>NaN</td>\n",
       "      <td>NaN</td>\n",
       "      <td>False</td>\n",
       "    </tr>\n",
       "    <tr>\n",
       "      <th>freq</th>\n",
       "      <td>106</td>\n",
       "      <td>NaN</td>\n",
       "      <td>NaN</td>\n",
       "      <td>1</td>\n",
       "      <td>3010</td>\n",
       "      <td>2411</td>\n",
       "      <td>NaN</td>\n",
       "      <td>NaN</td>\n",
       "      <td>NaN</td>\n",
       "      <td>NaN</td>\n",
       "      <td>...</td>\n",
       "      <td>NaN</td>\n",
       "      <td>NaN</td>\n",
       "      <td>NaN</td>\n",
       "      <td>NaN</td>\n",
       "      <td>NaN</td>\n",
       "      <td>NaN</td>\n",
       "      <td>NaN</td>\n",
       "      <td>NaN</td>\n",
       "      <td>NaN</td>\n",
       "      <td>2850</td>\n",
       "    </tr>\n",
       "    <tr>\n",
       "      <th>mean</th>\n",
       "      <td>NaN</td>\n",
       "      <td>101.064806</td>\n",
       "      <td>437.182418</td>\n",
       "      <td>NaN</td>\n",
       "      <td>NaN</td>\n",
       "      <td>NaN</td>\n",
       "      <td>8.099010</td>\n",
       "      <td>179.775098</td>\n",
       "      <td>100.435644</td>\n",
       "      <td>30.562307</td>\n",
       "      <td>...</td>\n",
       "      <td>100.114311</td>\n",
       "      <td>17.083540</td>\n",
       "      <td>200.872037</td>\n",
       "      <td>100.107711</td>\n",
       "      <td>9.039325</td>\n",
       "      <td>10.237294</td>\n",
       "      <td>4.479448</td>\n",
       "      <td>2.764581</td>\n",
       "      <td>1.562856</td>\n",
       "      <td>NaN</td>\n",
       "    </tr>\n",
       "    <tr>\n",
       "      <th>std</th>\n",
       "      <td>NaN</td>\n",
       "      <td>39.822106</td>\n",
       "      <td>42.371290</td>\n",
       "      <td>NaN</td>\n",
       "      <td>NaN</td>\n",
       "      <td>NaN</td>\n",
       "      <td>13.688365</td>\n",
       "      <td>54.467389</td>\n",
       "      <td>20.069084</td>\n",
       "      <td>9.259435</td>\n",
       "      <td>...</td>\n",
       "      <td>19.922625</td>\n",
       "      <td>4.310668</td>\n",
       "      <td>50.573847</td>\n",
       "      <td>19.568609</td>\n",
       "      <td>2.275873</td>\n",
       "      <td>2.791840</td>\n",
       "      <td>2.461214</td>\n",
       "      <td>0.753773</td>\n",
       "      <td>1.315491</td>\n",
       "      <td>NaN</td>\n",
       "    </tr>\n",
       "    <tr>\n",
       "      <th>min</th>\n",
       "      <td>NaN</td>\n",
       "      <td>1.000000</td>\n",
       "      <td>408.000000</td>\n",
       "      <td>NaN</td>\n",
       "      <td>NaN</td>\n",
       "      <td>NaN</td>\n",
       "      <td>0.000000</td>\n",
       "      <td>0.000000</td>\n",
       "      <td>0.000000</td>\n",
       "      <td>0.000000</td>\n",
       "      <td>...</td>\n",
       "      <td>0.000000</td>\n",
       "      <td>0.000000</td>\n",
       "      <td>23.200000</td>\n",
       "      <td>33.000000</td>\n",
       "      <td>1.040000</td>\n",
       "      <td>0.000000</td>\n",
       "      <td>0.000000</td>\n",
       "      <td>0.000000</td>\n",
       "      <td>0.000000</td>\n",
       "      <td>NaN</td>\n",
       "    </tr>\n",
       "    <tr>\n",
       "      <th>25%</th>\n",
       "      <td>NaN</td>\n",
       "      <td>74.000000</td>\n",
       "      <td>408.000000</td>\n",
       "      <td>NaN</td>\n",
       "      <td>NaN</td>\n",
       "      <td>NaN</td>\n",
       "      <td>0.000000</td>\n",
       "      <td>143.700000</td>\n",
       "      <td>87.000000</td>\n",
       "      <td>24.430000</td>\n",
       "      <td>...</td>\n",
       "      <td>87.000000</td>\n",
       "      <td>14.160000</td>\n",
       "      <td>167.000000</td>\n",
       "      <td>87.000000</td>\n",
       "      <td>7.520000</td>\n",
       "      <td>8.500000</td>\n",
       "      <td>3.000000</td>\n",
       "      <td>2.300000</td>\n",
       "      <td>1.000000</td>\n",
       "      <td>NaN</td>\n",
       "    </tr>\n",
       "    <tr>\n",
       "      <th>50%</th>\n",
       "      <td>NaN</td>\n",
       "      <td>101.000000</td>\n",
       "      <td>415.000000</td>\n",
       "      <td>NaN</td>\n",
       "      <td>NaN</td>\n",
       "      <td>NaN</td>\n",
       "      <td>0.000000</td>\n",
       "      <td>179.400000</td>\n",
       "      <td>101.000000</td>\n",
       "      <td>30.500000</td>\n",
       "      <td>...</td>\n",
       "      <td>100.000000</td>\n",
       "      <td>17.120000</td>\n",
       "      <td>201.200000</td>\n",
       "      <td>100.000000</td>\n",
       "      <td>9.050000</td>\n",
       "      <td>10.300000</td>\n",
       "      <td>4.000000</td>\n",
       "      <td>2.780000</td>\n",
       "      <td>1.000000</td>\n",
       "      <td>NaN</td>\n",
       "    </tr>\n",
       "    <tr>\n",
       "      <th>75%</th>\n",
       "      <td>NaN</td>\n",
       "      <td>127.000000</td>\n",
       "      <td>510.000000</td>\n",
       "      <td>NaN</td>\n",
       "      <td>NaN</td>\n",
       "      <td>NaN</td>\n",
       "      <td>20.000000</td>\n",
       "      <td>216.400000</td>\n",
       "      <td>114.000000</td>\n",
       "      <td>36.790000</td>\n",
       "      <td>...</td>\n",
       "      <td>114.000000</td>\n",
       "      <td>20.000000</td>\n",
       "      <td>235.300000</td>\n",
       "      <td>113.000000</td>\n",
       "      <td>10.590000</td>\n",
       "      <td>12.100000</td>\n",
       "      <td>6.000000</td>\n",
       "      <td>3.270000</td>\n",
       "      <td>2.000000</td>\n",
       "      <td>NaN</td>\n",
       "    </tr>\n",
       "    <tr>\n",
       "      <th>max</th>\n",
       "      <td>NaN</td>\n",
       "      <td>243.000000</td>\n",
       "      <td>510.000000</td>\n",
       "      <td>NaN</td>\n",
       "      <td>NaN</td>\n",
       "      <td>NaN</td>\n",
       "      <td>51.000000</td>\n",
       "      <td>350.800000</td>\n",
       "      <td>165.000000</td>\n",
       "      <td>59.640000</td>\n",
       "      <td>...</td>\n",
       "      <td>170.000000</td>\n",
       "      <td>30.910000</td>\n",
       "      <td>395.000000</td>\n",
       "      <td>175.000000</td>\n",
       "      <td>17.770000</td>\n",
       "      <td>20.000000</td>\n",
       "      <td>20.000000</td>\n",
       "      <td>5.400000</td>\n",
       "      <td>9.000000</td>\n",
       "      <td>NaN</td>\n",
       "    </tr>\n",
       "  </tbody>\n",
       "</table>\n",
       "<p>11 rows × 21 columns</p>\n",
       "</div>"
      ],
      "text/plain": [
       "       state  account length    area code phone number international plan  \\\n",
       "count   3333     3333.000000  3333.000000         3333               3333   \n",
       "unique    51             NaN          NaN         3333                  2   \n",
       "top       WV             NaN          NaN     382-4657                 no   \n",
       "freq     106             NaN          NaN            1               3010   \n",
       "mean     NaN      101.064806   437.182418          NaN                NaN   \n",
       "std      NaN       39.822106    42.371290          NaN                NaN   \n",
       "min      NaN        1.000000   408.000000          NaN                NaN   \n",
       "25%      NaN       74.000000   408.000000          NaN                NaN   \n",
       "50%      NaN      101.000000   415.000000          NaN                NaN   \n",
       "75%      NaN      127.000000   510.000000          NaN                NaN   \n",
       "max      NaN      243.000000   510.000000          NaN                NaN   \n",
       "\n",
       "       voice mail plan  number vmail messages  total day minutes  \\\n",
       "count             3333            3333.000000        3333.000000   \n",
       "unique               2                    NaN                NaN   \n",
       "top                 no                    NaN                NaN   \n",
       "freq              2411                    NaN                NaN   \n",
       "mean               NaN               8.099010         179.775098   \n",
       "std                NaN              13.688365          54.467389   \n",
       "min                NaN               0.000000           0.000000   \n",
       "25%                NaN               0.000000         143.700000   \n",
       "50%                NaN               0.000000         179.400000   \n",
       "75%                NaN              20.000000         216.400000   \n",
       "max                NaN              51.000000         350.800000   \n",
       "\n",
       "        total day calls  total day charge  ...  total eve calls  \\\n",
       "count       3333.000000       3333.000000  ...      3333.000000   \n",
       "unique              NaN               NaN  ...              NaN   \n",
       "top                 NaN               NaN  ...              NaN   \n",
       "freq                NaN               NaN  ...              NaN   \n",
       "mean         100.435644         30.562307  ...       100.114311   \n",
       "std           20.069084          9.259435  ...        19.922625   \n",
       "min            0.000000          0.000000  ...         0.000000   \n",
       "25%           87.000000         24.430000  ...        87.000000   \n",
       "50%          101.000000         30.500000  ...       100.000000   \n",
       "75%          114.000000         36.790000  ...       114.000000   \n",
       "max          165.000000         59.640000  ...       170.000000   \n",
       "\n",
       "        total eve charge  total night minutes  total night calls  \\\n",
       "count        3333.000000          3333.000000        3333.000000   \n",
       "unique               NaN                  NaN                NaN   \n",
       "top                  NaN                  NaN                NaN   \n",
       "freq                 NaN                  NaN                NaN   \n",
       "mean           17.083540           200.872037         100.107711   \n",
       "std             4.310668            50.573847          19.568609   \n",
       "min             0.000000            23.200000          33.000000   \n",
       "25%            14.160000           167.000000          87.000000   \n",
       "50%            17.120000           201.200000         100.000000   \n",
       "75%            20.000000           235.300000         113.000000   \n",
       "max            30.910000           395.000000         175.000000   \n",
       "\n",
       "        total night charge  total intl minutes  total intl calls  \\\n",
       "count          3333.000000         3333.000000       3333.000000   \n",
       "unique                 NaN                 NaN               NaN   \n",
       "top                    NaN                 NaN               NaN   \n",
       "freq                   NaN                 NaN               NaN   \n",
       "mean              9.039325           10.237294          4.479448   \n",
       "std               2.275873            2.791840          2.461214   \n",
       "min               1.040000            0.000000          0.000000   \n",
       "25%               7.520000            8.500000          3.000000   \n",
       "50%               9.050000           10.300000          4.000000   \n",
       "75%              10.590000           12.100000          6.000000   \n",
       "max              17.770000           20.000000         20.000000   \n",
       "\n",
       "        total intl charge  customer service calls  churn  \n",
       "count         3333.000000             3333.000000   3333  \n",
       "unique                NaN                     NaN      2  \n",
       "top                   NaN                     NaN  False  \n",
       "freq                  NaN                     NaN   2850  \n",
       "mean             2.764581                1.562856    NaN  \n",
       "std              0.753773                1.315491    NaN  \n",
       "min              0.000000                0.000000    NaN  \n",
       "25%              2.300000                1.000000    NaN  \n",
       "50%              2.780000                1.000000    NaN  \n",
       "75%              3.270000                2.000000    NaN  \n",
       "max              5.400000                9.000000    NaN  \n",
       "\n",
       "[11 rows x 21 columns]"
      ]
     },
     "metadata": {},
     "output_type": "display_data"
    },
    {
     "name": "stdout",
     "output_type": "stream",
     "text": [
      "\n",
      "Missing Values per Column:\n",
      "state                     0\n",
      "account length            0\n",
      "area code                 0\n",
      "phone number              0\n",
      "international plan        0\n",
      "voice mail plan           0\n",
      "number vmail messages     0\n",
      "total day minutes         0\n",
      "total day calls           0\n",
      "total day charge          0\n",
      "total eve minutes         0\n",
      "total eve calls           0\n",
      "total eve charge          0\n",
      "total night minutes       0\n",
      "total night calls         0\n",
      "total night charge        0\n",
      "total intl minutes        0\n",
      "total intl calls          0\n",
      "total intl charge         0\n",
      "customer service calls    0\n",
      "churn                     0\n",
      "dtype: int64\n",
      "\n",
      "Duplicate Rows: 0\n"
     ]
    }
   ],
   "source": [
    "#creating a function to inspect the data for our dataframe \n",
    "def inspect_df(df_churn, name=None, preview_rows=5):\n",
    "\n",
    "    # Show the name of the dataframe we are inspecting\n",
    "    print(f\"\\n=== Inspecting: {name or 'DataFrame'} ===\")\n",
    "    \n",
    "    # Print the shape of the DataFrame (rows, columns)\n",
    "    print(f\"Shape: {df_churn.shape}\")\n",
    "    \n",
    "    # Print list of column names\n",
    "    print(f\"Columns: {df_churn.columns.tolist()}\")\n",
    "    \n",
    "    # Print data types for each column\n",
    "    print(\"\\nData Types:\")\n",
    "    print(df_churn.dtypes)\n",
    "    \n",
    "    # Print descriptive statistics for all columns\n",
    "    print(\"\\nDescriptive Statistics:\")\n",
    "    display(df_churn.describe(include='all'))\n",
    "    \n",
    "    # Print the number of null values in each column\n",
    "    print(\"\\nMissing Values per Column:\")\n",
    "    print(df_churn.isnull().sum())\n",
    "    \n",
    "    # Print the number of duplicate rows in the DataFrame\n",
    "    print(f\"\\nDuplicate Rows: {df_churn.duplicated().sum()}\")\n",
    "\n",
    "    \n",
    "# Calling the Function with the different dataframes\n",
    "inspect_df(df_churn , name=\"df_churn\")"
   ]
  },
  {
   "cell_type": "markdown",
   "metadata": {},
   "source": [
    "## Dataset Overview\n",
    "- **Shape:** 3,333 records × 21 features  \n",
    "- **Data types:**  \n",
    "  - Object: `state`, `phone number`, `international plan`, `voice mail plan`  \n",
    "  - Integer: `account length`, `area code`, `number vmail messages`, `total day calls`, `total eve calls`, `total night calls`, `total intl calls`, `customer service calls`  \n",
    "  - Float: `total day minutes`, `total day charge`, `total eve minutes`, `total eve charge`, `total night minutes`, `total night charge`, `total intl minutes`, `total intl charge`  \n",
    "  - Boolean: `churn`\n",
    "\n",
    "- **Missing values:** 0 across all 21 features  \n",
    "- **Duplicate rows:** 0  \n",
    "\n",
    "- **Account length** ranges from 1 day to 242 days (median = 101 days), suggesting a mix of new and long‑term customers.\n",
    "- **Usage distributions** are roughly symmetrical for day/eve/night minutes, with 25th–75th percentiles indicating moderate variability.\n",
    "- **Plan adoption:** “International plan” and “voice mail plan” each have two categories (`yes`/`no`), which can be one‑hot encoded.\n",
    "\n",
    "Because there are no missing or duplicate entries and all data types align with expectations, the dataset is clean and ready for deeper exploration.\n",
    "\n",
    "## Feature Overview\n",
    "\n",
    "| **Feature Group**   | **Columns**                                                                                                                                      |\n",
    "| ------------------- | ------------------------------------------------------------------------------------------------------------------------------------------------ |\n",
    "| Identifier          | `phone number`                                                                                                                                   |\n",
    "| Tenure              | `account length`                                                                                                                                 |\n",
    "| Location / Tier     | `state`, `area code`                                                                                                                             |\n",
    "| Plans               | `international plan`, `voice mail plan`                                                                                                          |\n",
    "| Voice Mail Usage    | `number vmail messages`                                                                                                                          |\n",
    "| Usage (Day)         | `total day minutes`, `total day calls`, `total day charge`                                                                                       |\n",
    "| Usage (Eve)         | `total eve minutes`, `total eve calls`, `total eve charge`                                                                                       |\n",
    "| Usage (Night)       | `total night minutes`, `total night calls`, `total night charge`                                                                                 |\n",
    "| Usage (Intl)        | `total intl minutes`, `total intl calls`, `total intl charge`                                                                                   |\n",
    "| Support             | `customer service calls`                                                                                                                         |\n",
    "| Target              | `churn` (Boolean: **True** = churned, **False** = stayed)                                                                                         |\n",
    "\n",
    "---\n",
    "\n",
    "*Next, I will move into the Exploratory Data Analysis (EDA) phase to visualize these patterns and surface the strongest predictors of churn.* "
   ]
  },
  {
   "cell_type": "markdown",
   "metadata": {},
   "source": [
    "## 3 Exploratory Data Analysis(EDA)\n",
    "In this phase, I will explore customer churn drivers and surface early patterns to inform our modeling."
   ]
  },
  {
   "cell_type": "markdown",
   "metadata": {},
   "source": [
    "#### Column Name Standardization\n",
    "\n",
    "I’ll clean up the column names so they’re all lowercase, have no extra whitespace, and use underscores instead of spaces. This makes everything easier to call later on.\n",
    "> **Note:** I’m also standardizing column names here rather than in data preparation because the EDA cells that follow rely on these exact names."
   ]
  },
  {
   "cell_type": "code",
   "execution_count": 33,
   "metadata": {},
   "outputs": [],
   "source": [
    "# Clean up column names:lowercase, replace spaces, remove special characters \n",
    "df_churn.columns = (\n",
    "    df_churn.columns\n",
    "        .str.strip()\n",
    "        .str.lower()\n",
    "        .str.replace(' ', '_')\n",
    "        .str.replace(r'[^\\w]', '', regex=True)\n",
    ")"
   ]
  },
  {
   "cell_type": "markdown",
   "metadata": {},
   "source": [
    "#### Target Variable Balance\n",
    "\n",
    "To understand class imbalance, I will first compute the raw counts and percentages of customers who churned versus those who stayed, then visualize them with a bar chart and a pie chart."
   ]
  },
  {
   "cell_type": "code",
   "execution_count": 34,
   "metadata": {},
   "outputs": [
    {
     "name": "stdout",
     "output_type": "stream",
     "text": [
      "Raw counts:\n",
      " churn\n",
      "False    2850\n",
      "True      483\n",
      "Name: count, dtype: int64\n",
      "\n",
      "Percentage:\n",
      " churn\n",
      "False    85.5\n",
      "True     14.5\n",
      "Name: proportion, dtype: float64\n"
     ]
    },
    {
     "data": {
      "image/png": "[encoded data removed]",
      "text/plain": [
       "<Figure size 640x480 with 1 Axes>"
      ]
     },
     "metadata": {},
     "output_type": "display_data"
    },
    {
     "data": {
      "image/png": "[encoded data removed]",
      "text/plain": [
       "<Figure size 600x600 with 1 Axes>"
      ]
     },
     "metadata": {},
     "output_type": "display_data"
    }
   ],
   "source": [
    "# Count how many stayed vs. left\n",
    "counts = df_churn['churn'].value_counts()\n",
    "print(\"Raw counts:\\n\", counts)\n",
    "\n",
    "# Convert to percentages\n",
    "pct = df_churn['churn'].value_counts(normalize=True) * 100\n",
    "print(\"\\nPercentage:\\n\", pct.round(1))\n",
    "\n",
    "# Plot bar chart for Churn Distribution'#1f77b4\n",
    "sns.countplot(x='churn', data=df_churn,  palette=['skyblue', 'salmon'] )\n",
    "plt.title(\"Churn Distribution\")\n",
    "plt.xlabel(\"Churn (0 = Stayed, 1 = Left)\")\n",
    "plt.ylabel(\"Number of Customers\");\n",
    "\n",
    "#Export the Graph\n",
    "plt.savefig(\"Images/churn_counts.png\", dpi=300)\n",
    "\n",
    "plt.show()\n",
    "\n",
    "# Calculate churn rate percentages\n",
    "name = \"Customer Churn Rate\"\n",
    "\n",
    "# Pie chart for churn rate\n",
    "plt.figure(figsize=(6, 6))\n",
    "plt.pie(pct, labels=pct.index, autopct=\"%1.1f%%\", colors=['skyblue', 'salmon'])\n",
    "plt.title(\"Customer Churn Rate\", color = 'black')\n",
    "startangle=90,\n",
    "textprops={'color':'white'}\n",
    "\n",
    "#Export the Graph\n",
    "plt.savefig(\"Images/customer_churn_rate.png\", dpi=300)\n",
    "\n",
    "plt.show()"
   ]
  },
  {
   "cell_type": "markdown",
   "metadata": {},
   "source": [
    "**Observation**  \n",
    "The dataset is moderately imbalanced: about **85.5%** (2850) of customers stayed with SyriaTel, while **14.5%** (483) churned. This means our model will need to account for the fact that non-churners are the majority so we’ll focus on metrics like recall and possibly use stratified splits or class weights to ensure we don’t overlook the smaller churn class."
   ]
  },
  {
   "cell_type": "markdown",
   "metadata": {},
   "source": [
    "I’ll examine how customer service calls differ between churners and non‑churners."
   ]
  },
  {
   "cell_type": "markdown",
   "metadata": {},
   "source": [
    "#### a. Does calling customer service signal higher churn risk?\n",
    "\n",
    "I’ll compare the distribution of `customer_service_calls` for those who stayed versus those who left as I want to see whether customers who called support more frequently were more likely to churn. A boxplot will highlight differences in medians, interquartile ranges, and outliers showing whether churners contact support more often than non-churners."
   ]
  },
  {
   "cell_type": "code",
   "execution_count": 35,
   "metadata": {},
   "outputs": [
    {
     "data": {
      "image/png": "[encoded data removed]",
      "text/plain": [
       "<Figure size 600x400 with 1 Axes>"
      ]
     },
     "metadata": {},
     "output_type": "display_data"
    }
   ],
   "source": [
    "# Plot Support Calls vs. Churn\n",
    "plt.figure(figsize=(6,4))\n",
    "sns.boxplot(x='churn', y='customer_service_calls', data=df_churn, palette=['skyblue', 'salmon'])\n",
    "plt.title(\"Support Calls by Churn Status\")\n",
    "plt.xlabel(\"Churn (False = Stayed, True = Left)\")\n",
    "plt.ylabel(\"Number of Customer Service Calls\")\n",
    "\n",
    "#Export the Graph\n",
    "plt.savefig(\"Images/Support_Calls_by_Churn_Status.png\", dpi=300)\n",
    "plt.show()"
   ]
  },
  {
   "cell_type": "markdown",
   "metadata": {},
   "source": [
    "**Observation:**  \n",
    "Customers who churned (True) have a noticeably higher median number of support calls (around 2) compared to those who stayed (median of 1). The churners’ IQR spans roughly 1–4 calls, whereas stayers concentrate around 1–2 calls. There are also more extreme outliers among churners (up to 9 calls). This suggests frequent customer service interactions are an early warning signal of potential churn."
   ]
  },
  {
   "cell_type": "markdown",
   "metadata": {},
   "source": [
    "#### b. How does plan usage relate to churn?\n",
    "\n",
    "I’ll overlay density histograms for key usage metrics day, evening, night, and international minutes comparing churners vs. stayers. Differences in these distributions can reveal whether low or high usage is an early warning sign."
   ]
  },
  {
   "cell_type": "code",
   "execution_count": 36,
   "metadata": {},
   "outputs": [
    {
     "data": {
      "image/png": "[encoded data removed]",
      "text/plain": [
       "<Figure size 1200x800 with 4 Axes>"
      ]
     },
     "metadata": {},
     "output_type": "display_data"
    }
   ],
   "source": [
    "# Plot for Usage Patterns\n",
    "usage_cols = ['total_day_minutes', 'total_eve_minutes', \n",
    "              'total_night_minutes', 'total_intl_minutes']\n",
    "\n",
    "fig, axes = plt.subplots(2, 2, figsize=(12, 8));\n",
    "axes = axes.flatten()\n",
    "\n",
    "for ax, col in zip(axes, usage_cols):\n",
    "    sns.histplot(data=df_churn, x=col, hue='churn', bins=30, alpha=0.6, ax=ax, palette={0: 'skyblue', 1: 'coral'}, legend=False)\n",
    "    ax.set_title(col.replace('_', ' ').title())\n",
    "    ax.set_xlabel(col.replace('_', ' ').title() + \" (minutes)\")\n",
    "    ax.set_ylabel(\"Number of Customers\")\n",
    "    ax.legend(title='Churn', labels=['Stayed', 'Churned'])\n",
    "\n",
    "plt.tight_layout()\n",
    "plt.savefig(\"Images/usage_histograms.png\", dpi=300)\n",
    "plt.show()\n"
   ]
  },
  {
   "cell_type": "markdown",
   "metadata": {},
   "source": [
    "**Observation:**  \n",
    "Across all four usage metrics day, evening, night, and international minutes customers who churned (coral) tend to fall into the lower usage bins, while those who stayed (skyblue) skew toward higher usage. For example, the tallest bars for churners in “Total Day Minutes” are around 100–150 minutes, whereas stayers peak around 200–250 minutes. This suggests that under utilization of plan minutes is a strong early warning sign of churn"
   ]
  },
  {
   "cell_type": "markdown",
   "metadata": {},
   "source": [
    "#### c. Are certain regions more at risk?\n",
    "\n",
    "I’ll compute each state’s churn rate (percentage of customers who left) and plot it as a bar chart. This will highlight any geographic “hot spots” where churn is unusually high."
   ]
  },
  {
   "cell_type": "code",
   "execution_count": 37,
   "metadata": {},
   "outputs": [
    {
     "data": {
      "image/png": "[encoded data removed]",
      "text/plain": [
       "<Figure size 1200x500 with 1 Axes>"
      ]
     },
     "metadata": {},
     "output_type": "display_data"
    }
   ],
   "source": [
    "# Plot Churn Rate by State\n",
    "state_churn = df_churn.groupby('state')['churn'].mean().mul(100).sort_values(ascending=False)\n",
    "\n",
    "# Define risk buckets and map to colors\n",
    "def risk_color(pct):\n",
    "    if pct >= 20:\n",
    "        return \"crimson\"    # high risk\n",
    "    elif pct >= 10:\n",
    "        return \"darkorange\" # medium risk\n",
    "    else:\n",
    "        return \"seagreen\"   # low risk\n",
    "\n",
    "colors = state_churn.map(risk_color)\n",
    "\n",
    "# Plotting &exporting the grapgh\n",
    "plt.figure(figsize=(12, 5))\n",
    "sns.barplot(\n",
    "    x=state_churn.index,\n",
    "    y=state_churn.values,\n",
    "    palette= colors.tolist(),\n",
    ")\n",
    "\n",
    "plt.title(\"Churn Rate by State (%)\", fontsize=14, weight=\"bold\")\n",
    "plt.ylabel(\"Churn Rate (%)\", fontsize=12)\n",
    "plt.xlabel(\"State\", fontsize=12)\n",
    "plt.xticks(rotation=45, ha=\"right\")\n",
    "sns.despine(left=True, bottom=True)\n",
    "plt.tight_layout()\n",
    "plt.savefig(\"Images/churn_rate_by_state.png\", dpi=300)\n",
    "plt.show()"
   ]
  },
  {
   "cell_type": "markdown",
   "metadata": {},
   "source": [
    "**Observation:**  \n",
    "New Jersey (NJ) and California (CA) stand out with the highest churn rates of around 26% well above the national average of 14.5%. Texas (TX), Maryland (MD), and South Carolina (SC) also exceed 23%. On the low end, Hawaii (HI) and Alaska (AK) show the lowest churn, near 6%.  \n",
    "\n",
    "This tells us that geography matters as some states are “hot spots” for attrition and should be prime targets for localized retention campaigns."
   ]
  },
  {
   "cell_type": "markdown",
   "metadata": {},
   "source": [
    "#### d. Does how long a customer has been with SyriaTel influence churn risk?\n",
    "\n",
    "I’ll plot a boxplot of `account_length` (months with the company) split by churn. This will show whether churners tend to have shorter tenures than those who stay."
   ]
  },
  {
   "cell_type": "code",
   "execution_count": 38,
   "metadata": {},
   "outputs": [
    {
     "data": {
      "image/png": "[encoded data removed]",
      "text/plain": [
       "<Figure size 600x400 with 1 Axes>"
      ]
     },
     "metadata": {},
     "output_type": "display_data"
    }
   ],
   "source": [
    "# Plot Tenure Effects\n",
    "plt.figure(figsize=(6,4))\n",
    "sns.boxplot(x='churn', y='account_length', data=df_churn, palette=['skyblue','coral'])\n",
    "plt.title(\"Account Length by Churn Status\")\n",
    "plt.xlabel(\"Churn (False = Stayed, True = Left)\")\n",
    "plt.ylabel(\"Account Length (Months)\")\n",
    "plt.savefig(\"Images/account_length.png\", dpi=300)\n",
    "plt.show()"
   ]
  },
  {
   "cell_type": "markdown",
   "metadata": {},
   "source": [
    "**Observation:**  \n",
    "The median account length for churners (True) is around 100 months, compared to about 105 months for stayers (False),a small but noticeable difference. Churners also show a wider middle 50% range (IQR), extending roughly from 75 to 125 months, whereas stayers are tighter, between about 80 and 130 months. This suggests that customers with both very short and very long tenures have slightly elevated churn risk, but overall tenure alone is not as strong a signal as usage or support calls."
   ]
  },
  {
   "cell_type": "markdown",
   "metadata": {},
   "source": [
    "### e. Extra Signals: Voicemail Plan & International Calls\n",
    "\n",
    "To uncover additional behavioral predictors of churn, we analyze two features:\n",
    "\n",
    "1. **Voicemail Plan Uptake** (`voice_mail_plan`)  \n",
    "   Whether a customer subscribes to the voicemail add‑on (“Yes” vs. “No”).  \n",
    "\n",
    "2. **International Calls** (`total_intl_calls`)  \n",
    "   The count of international calls placed by each customer.\n",
    "\n",
    "Below, I will present two separate charts one showing the distribution of voicemail plan subscribers by churn status, and the other comparing average international calls (with ±1 SD) for churners and non‑churners to reveal patterns that can strengthen our model’s predictive accuracy."
   ]
  },
  {
   "cell_type": "code",
   "execution_count": 46,
   "metadata": {},
   "outputs": [
    {
     "data": {
      "image/png": "[encoded data removed]",
      "text/plain": [
       "<Figure size 600x400 with 1 Axes>"
      ]
     },
     "metadata": {},
     "output_type": "display_data"
    }
   ],
   "source": [
    "# Work on a copy and map to nice labels\n",
    "df = df_churn.copy()\n",
    "df['VM Plan']  = df['voice_mail_plan'].map({'no':'No', 'yes':'Yes'})\n",
    "df['ChurnFlag'] = df['churn'].map({False:'No', True:'Yes'})\n",
    "\n",
    "plt.figure(figsize=(6,4))\n",
    "sns.countplot(\n",
    "    x='VM Plan',\n",
    "    hue='ChurnFlag',\n",
    "    data=df,\n",
    "    order=['No','Yes'],\n",
    "    hue_order=['No','Yes'],\n",
    "    palette=['skyblue','coral']\n",
    ")\n",
    "plt.title(\"Voicemail Plan Uptake by Churn\")\n",
    "plt.xlabel(\"Voicemail Plan\")\n",
    "plt.ylabel(\"Number of Customers\")\n",
    "plt.legend(title=\"Churn\")\n",
    "plt.tight_layout()\n",
    "plt.savefig(\"Images/Voicemail_Plan_Uptake_by_Churn.png\", dpi=300)\n",
    "plt.show()"
   ]
  },
  {
   "cell_type": "markdown",
   "metadata": {},
   "source": [
    "### Interpretation\n",
    "\n",
    "From the countplot:\n",
    "\n",
    "- **Non‑churners (Stayed)**  \n",
    "  - ~2,000 customers **did not** subscribe to the voicemail add‑on  \n",
    "  - ~800 customers **did** subscribe  \n",
    "\n",
    "- **Churners (Left)**  \n",
    "  - ~400 customers **did not** subscribe  \n",
    "  - ~80 customers **did** subscribe  \n",
    "\n",
    "Calculating churn rates by plan status:  \n",
    "- **No plan:** 400 / 2411 ≈ 16.6 % churn  \n",
    "- **Yes plan:** 83 / 922 ≈ 9.0 % churn  \n",
    "\n",
    "Customers with the voicemail plan churn at roughly half the rate of those without it. This indicates that **voice_mail_plan** uptake is a strong retention signal—subscribers are significantly less likely to leave. I should include this feature in our model and consider offering targeted promotions to non‑subscribers to improve overall retention."
   ]
  },
  {
   "cell_type": "code",
   "execution_count": 45,
   "metadata": {},
   "outputs": [
    {
     "data": {
      "image/png": "[encoded data removed]",
      "text/plain": [
       "<Figure size 600x400 with 1 Axes>"
      ]
     },
     "metadata": {},
     "output_type": "display_data"
    }
   ],
   "source": [
    "plt.figure(figsize=(6,4))\n",
    "sns.boxplot(\n",
    "    x='ChurnFlag',\n",
    "    y='total_intl_calls',\n",
    "    data=df,\n",
    "    palette=['skyblue','coral']\n",
    ")\n",
    "sns.stripplot(\n",
    "    x='ChurnFlag',\n",
    "    y='total_intl_calls',\n",
    "    data=df,\n",
    "    color='gray',\n",
    "    size=3,\n",
    "    jitter=0.2\n",
    ")\n",
    "plt.title(\"International Calls by Churn\")\n",
    "plt.xlabel(\"Churn\")\n",
    "plt.ylabel(\"Total International Calls\")\n",
    "plt.tight_layout()\n",
    "plt.savefig(\"Images/International_Calls_by_Churn.png\", dpi=300)\n",
    "plt.show()\n"
   ]
  },
  {
   "cell_type": "markdown",
   "metadata": {},
   "source": [
    "### Interpretation\n",
    "\n",
    "From the box‑and‑strip plot of `total_intl_calls`:\n",
    "\n",
    "- **Non‑churners (Stayed)**  \n",
    "  - **Median:** ~4.5 calls  \n",
    "  - **IQR:** ~3 to 6 calls  \n",
    "  - **Range:** 0 up to ~20 calls, with a handful of high‑usage outliers  \n",
    "\n",
    "- **Churners (Left)**  \n",
    "  - **Median:** ~3.5 calls  \n",
    "  - **IQR:** ~2 to 5 calls  \n",
    "  - **Range:** 0 up to ~15 calls, with fewer extreme high‑usage outliers  \n",
    "\n",
    "**Key insight:**  \n",
    "Customers who churn make, on average, roughly **1 fewer international call** than those who stay and their distribution is shifted downward across the board. Lower international calling activity appears to be a negative engagement signal. I should include `total_intl_calls` in our model and consider proactive outreach to customers whose international call volumes fall below the non‑churn median.Overall, international call volume alone doesn’t appear as strong a churn signal as usage minutes or support calls."
   ]
  },
  {
   "cell_type": "markdown",
   "metadata": {},
   "source": [
    "### Bivariate Correlations\n",
    "\n",
    "To get a high level view of how our numeric features move together and especially how they relate to churn I will plot a correlation matrix"
   ]
  },
  {
   "cell_type": "code",
   "execution_count": 42,
   "metadata": {},
   "outputs": [
    {
     "data": {
      "image/png": "[encoded data removed]",
      "text/plain": [
       "<Figure size 1000x800 with 2 Axes>"
      ]
     },
     "metadata": {},
     "output_type": "display_data"
    }
   ],
   "source": [
    "# select all numeric columns (including churn)\n",
    "num_df = df_churn.select_dtypes(include=['int64','float64'])\n",
    "\n",
    "# ensures churn is numeric\n",
    "num_df['churn'] = df_churn['churn'].astype(int)\n",
    "\n",
    "# compute correlations\n",
    "corr = num_df.corr()\n",
    "\n",
    "# plot heatmap\n",
    "plt.figure(figsize=(10,8))\n",
    "sns.heatmap(corr, annot=True, fmt=\".2f\", cmap=\"coolwarm\", cbar_kws={'label': 'Correlation'})\n",
    "plt.title(\"Correlation Matrix of Numeric Features and Churn\")\n",
    "plt.tight_layout()\n",
    "plt.savefig(\"Images/correlation_heatmap.png\", dpi=300)\n",
    "plt.show()"
   ]
  },
  {
   "cell_type": "markdown",
   "metadata": {},
   "source": [
    "**Observation:**  \n",
    "- The highest positive correlations with churn (~0.21) are:\n",
    "  - **total_day_minutes** / **total_day_charge**: Customers using fewer daytime minutes and thus lower charges are more likely to churn.  \n",
    "  - **customer_service_calls**: More frequent support calls signal higher churn risk.  \n",
    "- All other numeric features show correlations close to zero with churn, indicating a weak or no linear relationship.  \n",
    "- This suggests daytime usage and support interactions are our strongest early warning indicators and should be prioritized in modeling."
   ]
  },
  {
   "cell_type": "markdown",
   "metadata": {},
   "source": [
    "## 4. Data Preparation (For Modeling)"
   ]
  },
  {
   "cell_type": "markdown",
   "metadata": {},
   "source": [
    "### 4.1 Identifying Feature Types\n",
    "\n",
    "Now that my column names are consistent, I’ll split the features into:\n",
    "- **Numeric features**: for scaling or transformation\n",
    "- **Categorical features**: for encoding\n",
    "\n",
    "This makes it clear which columns get which preprocessing."
   ]
  },
  {
   "cell_type": "code",
   "execution_count": 49,
   "metadata": {},
   "outputs": [
    {
     "name": "stdout",
     "output_type": "stream",
     "text": [
      "Numerical features: ['account_length', 'area_code', 'number_vmail_messages', 'total_day_minutes', 'total_day_calls', 'total_day_charge', 'total_eve_minutes', 'total_eve_calls', 'total_eve_charge', 'total_night_minutes', 'total_night_calls', 'total_night_charge', 'total_intl_minutes', 'total_intl_calls', 'total_intl_charge', 'customer_service_calls']\n",
      "Categorical features: ['state', 'phone_number', 'international_plan', 'voice_mail_plan']\n"
     ]
    }
   ],
   "source": [
    "# Identify numerical vs. categorical columns\n",
    "num_cols = df_churn.select_dtypes(include=['number']).columns.tolist()\n",
    "cat_cols = df_churn.select_dtypes(include=['object']).columns.tolist()\n",
    "\n",
    "print(\"Numerical features:\", num_cols)\n",
    "print(\"Categorical features:\", cat_cols)"
   ]
  },
  {
   "cell_type": "markdown",
   "metadata": {},
   "source": [
    "### 4.2 Dropping Irrelevant Columns\n",
    "\n",
    "I’m going to remove fields that don’t carry predictive signal things like `phone_number` (a unique ID) and `area_code` (an identifier that doesn’t really explain churn). This keeps my dataset lean and focused on the meaningful features."
   ]
  },
  {
   "cell_type": "markdown",
   "metadata": {},
   "source": [
    "##### Does churn vary by area code?\n",
    "\n",
    "Before dropping `area_code`, I'll confirm churn rates are roughly the same across the three codes by doing the following:\n",
    "\n",
    "- Compute mean churn in each `area_code`.  \n",
    "- If they’re within a percent or two, I know it carries no extra signal."
   ]
  },
  {
   "cell_type": "code",
   "execution_count": 50,
   "metadata": {},
   "outputs": [
    {
     "name": "stdout",
     "output_type": "stream",
     "text": [
      "area_code\n",
      "408    14.56\n",
      "415    14.26\n",
      "510    14.88\n",
      "Name: churn, dtype: float64\n"
     ]
    },
    {
     "data": {
      "image/png": "[encoded data removed]",
      "text/plain": [
       "<Figure size 600x300 with 1 Axes>"
      ]
     },
     "metadata": {},
     "output_type": "display_data"
    }
   ],
   "source": [
    "# Churn rate by area_code\n",
    "churn_by_area = df_churn.groupby('area_code')['churn'].mean().sort_index() * 100\n",
    "print(churn_by_area.round(2))\n",
    "\n",
    "# Plot a Bar chart\n",
    "churn_by_area.plot.bar(figsize=(6,3))\n",
    "plt.ylabel(\"Churn Rate (%)\")\n",
    "plt.title(\"Churn Rate by Area Code\")\n",
    "plt.show()"
   ]
  },
  {
   "cell_type": "markdown",
   "metadata": {},
   "source": [
    "> **Observation:** Churn rates across all three area codes (408: 14.56%, 415: 14.26%, 510: 14.88%) vary by less than 1% in absolute terms. This confirms that `area_code` carries no meaningful predictive signal for churn, so it’s safe to drop this column without degrading model performance."
   ]
  },
  {
   "cell_type": "code",
   "execution_count": 61,
   "metadata": {},
   "outputs": [
    {
     "name": "stdout",
     "output_type": "stream",
     "text": [
      "df_churn_prep shape: (3333, 19)\n"
     ]
    },
    {
     "data": {
      "application/vnd.microsoft.datawrangler.viewer.v0+json": {
       "columns": [
        {
         "name": "index",
         "rawType": "int64",
         "type": "integer"
        },
        {
         "name": "state",
         "rawType": "object",
         "type": "string"
        },
        {
         "name": "account_length",
         "rawType": "int64",
         "type": "integer"
        },
        {
         "name": "international_plan",
         "rawType": "object",
         "type": "string"
        },
        {
         "name": "voice_mail_plan",
         "rawType": "object",
         "type": "string"
        },
        {
         "name": "number_vmail_messages",
         "rawType": "int64",
         "type": "integer"
        },
        {
         "name": "total_day_minutes",
         "rawType": "float64",
         "type": "float"
        },
        {
         "name": "total_day_calls",
         "rawType": "int64",
         "type": "integer"
        },
        {
         "name": "total_day_charge",
         "rawType": "float64",
         "type": "float"
        },
        {
         "name": "total_eve_minutes",
         "rawType": "float64",
         "type": "float"
        },
        {
         "name": "total_eve_calls",
         "rawType": "int64",
         "type": "integer"
        },
        {
         "name": "total_eve_charge",
         "rawType": "float64",
         "type": "float"
        },
        {
         "name": "total_night_minutes",
         "rawType": "float64",
         "type": "float"
        },
        {
         "name": "total_night_calls",
         "rawType": "int64",
         "type": "integer"
        },
        {
         "name": "total_night_charge",
         "rawType": "float64",
         "type": "float"
        },
        {
         "name": "total_intl_minutes",
         "rawType": "float64",
         "type": "float"
        },
        {
         "name": "total_intl_calls",
         "rawType": "int64",
         "type": "integer"
        },
        {
         "name": "total_intl_charge",
         "rawType": "float64",
         "type": "float"
        },
        {
         "name": "customer_service_calls",
         "rawType": "int64",
         "type": "integer"
        },
        {
         "name": "churn",
         "rawType": "bool",
         "type": "boolean"
        }
       ],
       "ref": "bbfda910-9443-4acd-976f-458fc2bd8ad8",
       "rows": [
        [
         "0",
         "KS",
         "128",
         "no",
         "yes",
         "25",
         "265.1",
         "110",
         "45.07",
         "197.4",
         "99",
         "16.78",
         "244.7",
         "91",
         "11.01",
         "10.0",
         "3",
         "2.7",
         "1",
         "False"
        ],
        [
         "1",
         "OH",
         "107",
         "no",
         "yes",
         "26",
         "161.6",
         "123",
         "27.47",
         "195.5",
         "103",
         "16.62",
         "254.4",
         "103",
         "11.45",
         "13.7",
         "3",
         "3.7",
         "1",
         "False"
        ],
        [
         "2",
         "NJ",
         "137",
         "no",
         "no",
         "0",
         "243.4",
         "114",
         "41.38",
         "121.2",
         "110",
         "10.3",
         "162.6",
         "104",
         "7.32",
         "12.2",
         "5",
         "3.29",
         "0",
         "False"
        ],
        [
         "3",
         "OH",
         "84",
         "yes",
         "no",
         "0",
         "299.4",
         "71",
         "50.9",
         "61.9",
         "88",
         "5.26",
         "196.9",
         "89",
         "8.86",
         "6.6",
         "7",
         "1.78",
         "2",
         "False"
        ],
        [
         "4",
         "OK",
         "75",
         "yes",
         "no",
         "0",
         "166.7",
         "113",
         "28.34",
         "148.3",
         "122",
         "12.61",
         "186.9",
         "121",
         "8.41",
         "10.1",
         "3",
         "2.73",
         "3",
         "False"
        ]
       ],
       "shape": {
        "columns": 19,
        "rows": 5
       }
      },
      "text/html": [
       "<div>\n",
       "<style scoped>\n",
       "    .dataframe tbody tr th:only-of-type {\n",
       "        vertical-align: middle;\n",
       "    }\n",
       "\n",
       "    .dataframe tbody tr th {\n",
       "        vertical-align: top;\n",
       "    }\n",
       "\n",
       "    .dataframe thead th {\n",
       "        text-align: right;\n",
       "    }\n",
       "</style>\n",
       "<table border=\"1\" class=\"dataframe\">\n",
       "  <thead>\n",
       "    <tr style=\"text-align: right;\">\n",
       "      <th></th>\n",
       "      <th>state</th>\n",
       "      <th>account_length</th>\n",
       "      <th>international_plan</th>\n",
       "      <th>voice_mail_plan</th>\n",
       "      <th>number_vmail_messages</th>\n",
       "      <th>total_day_minutes</th>\n",
       "      <th>total_day_calls</th>\n",
       "      <th>total_day_charge</th>\n",
       "      <th>total_eve_minutes</th>\n",
       "      <th>total_eve_calls</th>\n",
       "      <th>total_eve_charge</th>\n",
       "      <th>total_night_minutes</th>\n",
       "      <th>total_night_calls</th>\n",
       "      <th>total_night_charge</th>\n",
       "      <th>total_intl_minutes</th>\n",
       "      <th>total_intl_calls</th>\n",
       "      <th>total_intl_charge</th>\n",
       "      <th>customer_service_calls</th>\n",
       "      <th>churn</th>\n",
       "    </tr>\n",
       "  </thead>\n",
       "  <tbody>\n",
       "    <tr>\n",
       "      <th>0</th>\n",
       "      <td>KS</td>\n",
       "      <td>128</td>\n",
       "      <td>no</td>\n",
       "      <td>yes</td>\n",
       "      <td>25</td>\n",
       "      <td>265.1</td>\n",
       "      <td>110</td>\n",
       "      <td>45.07</td>\n",
       "      <td>197.4</td>\n",
       "      <td>99</td>\n",
       "      <td>16.78</td>\n",
       "      <td>244.7</td>\n",
       "      <td>91</td>\n",
       "      <td>11.01</td>\n",
       "      <td>10.0</td>\n",
       "      <td>3</td>\n",
       "      <td>2.70</td>\n",
       "      <td>1</td>\n",
       "      <td>False</td>\n",
       "    </tr>\n",
       "    <tr>\n",
       "      <th>1</th>\n",
       "      <td>OH</td>\n",
       "      <td>107</td>\n",
       "      <td>no</td>\n",
       "      <td>yes</td>\n",
       "      <td>26</td>\n",
       "      <td>161.6</td>\n",
       "      <td>123</td>\n",
       "      <td>27.47</td>\n",
       "      <td>195.5</td>\n",
       "      <td>103</td>\n",
       "      <td>16.62</td>\n",
       "      <td>254.4</td>\n",
       "      <td>103</td>\n",
       "      <td>11.45</td>\n",
       "      <td>13.7</td>\n",
       "      <td>3</td>\n",
       "      <td>3.70</td>\n",
       "      <td>1</td>\n",
       "      <td>False</td>\n",
       "    </tr>\n",
       "    <tr>\n",
       "      <th>2</th>\n",
       "      <td>NJ</td>\n",
       "      <td>137</td>\n",
       "      <td>no</td>\n",
       "      <td>no</td>\n",
       "      <td>0</td>\n",
       "      <td>243.4</td>\n",
       "      <td>114</td>\n",
       "      <td>41.38</td>\n",
       "      <td>121.2</td>\n",
       "      <td>110</td>\n",
       "      <td>10.30</td>\n",
       "      <td>162.6</td>\n",
       "      <td>104</td>\n",
       "      <td>7.32</td>\n",
       "      <td>12.2</td>\n",
       "      <td>5</td>\n",
       "      <td>3.29</td>\n",
       "      <td>0</td>\n",
       "      <td>False</td>\n",
       "    </tr>\n",
       "    <tr>\n",
       "      <th>3</th>\n",
       "      <td>OH</td>\n",
       "      <td>84</td>\n",
       "      <td>yes</td>\n",
       "      <td>no</td>\n",
       "      <td>0</td>\n",
       "      <td>299.4</td>\n",
       "      <td>71</td>\n",
       "      <td>50.90</td>\n",
       "      <td>61.9</td>\n",
       "      <td>88</td>\n",
       "      <td>5.26</td>\n",
       "      <td>196.9</td>\n",
       "      <td>89</td>\n",
       "      <td>8.86</td>\n",
       "      <td>6.6</td>\n",
       "      <td>7</td>\n",
       "      <td>1.78</td>\n",
       "      <td>2</td>\n",
       "      <td>False</td>\n",
       "    </tr>\n",
       "    <tr>\n",
       "      <th>4</th>\n",
       "      <td>OK</td>\n",
       "      <td>75</td>\n",
       "      <td>yes</td>\n",
       "      <td>no</td>\n",
       "      <td>0</td>\n",
       "      <td>166.7</td>\n",
       "      <td>113</td>\n",
       "      <td>28.34</td>\n",
       "      <td>148.3</td>\n",
       "      <td>122</td>\n",
       "      <td>12.61</td>\n",
       "      <td>186.9</td>\n",
       "      <td>121</td>\n",
       "      <td>8.41</td>\n",
       "      <td>10.1</td>\n",
       "      <td>3</td>\n",
       "      <td>2.73</td>\n",
       "      <td>3</td>\n",
       "      <td>False</td>\n",
       "    </tr>\n",
       "  </tbody>\n",
       "</table>\n",
       "</div>"
      ],
      "text/plain": [
       "  state  account_length international_plan voice_mail_plan  \\\n",
       "0    KS             128                 no             yes   \n",
       "1    OH             107                 no             yes   \n",
       "2    NJ             137                 no              no   \n",
       "3    OH              84                yes              no   \n",
       "4    OK              75                yes              no   \n",
       "\n",
       "   number_vmail_messages  total_day_minutes  total_day_calls  \\\n",
       "0                     25              265.1              110   \n",
       "1                     26              161.6              123   \n",
       "2                      0              243.4              114   \n",
       "3                      0              299.4               71   \n",
       "4                      0              166.7              113   \n",
       "\n",
       "   total_day_charge  total_eve_minutes  total_eve_calls  total_eve_charge  \\\n",
       "0             45.07              197.4               99             16.78   \n",
       "1             27.47              195.5              103             16.62   \n",
       "2             41.38              121.2              110             10.30   \n",
       "3             50.90               61.9               88              5.26   \n",
       "4             28.34              148.3              122             12.61   \n",
       "\n",
       "   total_night_minutes  total_night_calls  total_night_charge  \\\n",
       "0                244.7                 91               11.01   \n",
       "1                254.4                103               11.45   \n",
       "2                162.6                104                7.32   \n",
       "3                196.9                 89                8.86   \n",
       "4                186.9                121                8.41   \n",
       "\n",
       "   total_intl_minutes  total_intl_calls  total_intl_charge  \\\n",
       "0                10.0                 3               2.70   \n",
       "1                13.7                 3               3.70   \n",
       "2                12.2                 5               3.29   \n",
       "3                 6.6                 7               1.78   \n",
       "4                10.1                 3               2.73   \n",
       "\n",
       "   customer_service_calls  churn  \n",
       "0                       1  False  \n",
       "1                       1  False  \n",
       "2                       0  False  \n",
       "3                       2  False  \n",
       "4                       3  False  "
      ]
     },
     "execution_count": 61,
     "metadata": {},
     "output_type": "execute_result"
    }
   ],
   "source": [
    "# creating a working copy\n",
    "df_churn_prep = df_churn.copy()\n",
    "\n",
    "# Drop the identifier columns in place.\n",
    "df_churn_prep.drop(['phone_number', 'area_code'], axis=1, inplace=True)\n",
    "\n",
    "# Sanity check\n",
    "print(\"df_churn_prep shape:\", df_churn_prep.shape)\n",
    "df_churn_prep.head()"
   ]
  },
  {
   "cell_type": "markdown",
   "metadata": {},
   "source": [
    "### 4.3 Encoding Categorical Variables\n",
    "\n",
    "I’m going to convert my text based features into numbers:\n",
    "\n",
    "1. **churn** → map `False` to `0`, `True` to `1`  \n",
    "2. **international_plan** & **voice_mail_plan** → map `no` to `0`, `yes` to `1`  \n",
    "3. **state** → one-hot encode into separate indicator columns  \n",
    "4. **cast booleans** → convert any remaining `True`/`False` flags to `0`/`1` integers  \n",
    "\n",
    "This will give me a fully numeric dataset ready for scaling and modeling."
   ]
  },
  {
   "cell_type": "code",
   "execution_count": 62,
   "metadata": {},
   "outputs": [
    {
     "name": "stdout",
     "output_type": "stream",
     "text": [
      "After encoding, df_churn_prep shape: (3333, 68)\n"
     ]
    },
    {
     "data": {
      "application/vnd.microsoft.datawrangler.viewer.v0+json": {
       "columns": [
        {
         "name": "index",
         "rawType": "int64",
         "type": "integer"
        },
        {
         "name": "account_length",
         "rawType": "int64",
         "type": "integer"
        },
        {
         "name": "international_plan",
         "rawType": "int64",
         "type": "integer"
        },
        {
         "name": "voice_mail_plan",
         "rawType": "int64",
         "type": "integer"
        },
        {
         "name": "number_vmail_messages",
         "rawType": "int64",
         "type": "integer"
        },
        {
         "name": "total_day_minutes",
         "rawType": "float64",
         "type": "float"
        },
        {
         "name": "total_day_calls",
         "rawType": "int64",
         "type": "integer"
        },
        {
         "name": "total_day_charge",
         "rawType": "float64",
         "type": "float"
        },
        {
         "name": "total_eve_minutes",
         "rawType": "float64",
         "type": "float"
        },
        {
         "name": "total_eve_calls",
         "rawType": "int64",
         "type": "integer"
        },
        {
         "name": "total_eve_charge",
         "rawType": "float64",
         "type": "float"
        },
        {
         "name": "total_night_minutes",
         "rawType": "float64",
         "type": "float"
        },
        {
         "name": "total_night_calls",
         "rawType": "int64",
         "type": "integer"
        },
        {
         "name": "total_night_charge",
         "rawType": "float64",
         "type": "float"
        },
        {
         "name": "total_intl_minutes",
         "rawType": "float64",
         "type": "float"
        },
        {
         "name": "total_intl_calls",
         "rawType": "int64",
         "type": "integer"
        },
        {
         "name": "total_intl_charge",
         "rawType": "float64",
         "type": "float"
        },
        {
         "name": "customer_service_calls",
         "rawType": "int64",
         "type": "integer"
        },
        {
         "name": "churn",
         "rawType": "int64",
         "type": "integer"
        },
        {
         "name": "state_AL",
         "rawType": "int32",
         "type": "integer"
        },
        {
         "name": "state_AR",
         "rawType": "int32",
         "type": "integer"
        },
        {
         "name": "state_AZ",
         "rawType": "int32",
         "type": "integer"
        },
        {
         "name": "state_CA",
         "rawType": "int32",
         "type": "integer"
        },
        {
         "name": "state_CO",
         "rawType": "int32",
         "type": "integer"
        },
        {
         "name": "state_CT",
         "rawType": "int32",
         "type": "integer"
        },
        {
         "name": "state_DC",
         "rawType": "int32",
         "type": "integer"
        },
        {
         "name": "state_DE",
         "rawType": "int32",
         "type": "integer"
        },
        {
         "name": "state_FL",
         "rawType": "int32",
         "type": "integer"
        },
        {
         "name": "state_GA",
         "rawType": "int32",
         "type": "integer"
        },
        {
         "name": "state_HI",
         "rawType": "int32",
         "type": "integer"
        },
        {
         "name": "state_IA",
         "rawType": "int32",
         "type": "integer"
        },
        {
         "name": "state_ID",
         "rawType": "int32",
         "type": "integer"
        },
        {
         "name": "state_IL",
         "rawType": "int32",
         "type": "integer"
        },
        {
         "name": "state_IN",
         "rawType": "int32",
         "type": "integer"
        },
        {
         "name": "state_KS",
         "rawType": "int32",
         "type": "integer"
        },
        {
         "name": "state_KY",
         "rawType": "int32",
         "type": "integer"
        },
        {
         "name": "state_LA",
         "rawType": "int32",
         "type": "integer"
        },
        {
         "name": "state_MA",
         "rawType": "int32",
         "type": "integer"
        },
        {
         "name": "state_MD",
         "rawType": "int32",
         "type": "integer"
        },
        {
         "name": "state_ME",
         "rawType": "int32",
         "type": "integer"
        },
        {
         "name": "state_MI",
         "rawType": "int32",
         "type": "integer"
        },
        {
         "name": "state_MN",
         "rawType": "int32",
         "type": "integer"
        },
        {
         "name": "state_MO",
         "rawType": "int32",
         "type": "integer"
        },
        {
         "name": "state_MS",
         "rawType": "int32",
         "type": "integer"
        },
        {
         "name": "state_MT",
         "rawType": "int32",
         "type": "integer"
        },
        {
         "name": "state_NC",
         "rawType": "int32",
         "type": "integer"
        },
        {
         "name": "state_ND",
         "rawType": "int32",
         "type": "integer"
        },
        {
         "name": "state_NE",
         "rawType": "int32",
         "type": "integer"
        },
        {
         "name": "state_NH",
         "rawType": "int32",
         "type": "integer"
        },
        {
         "name": "state_NJ",
         "rawType": "int32",
         "type": "integer"
        },
        {
         "name": "state_NM",
         "rawType": "int32",
         "type": "integer"
        },
        {
         "name": "state_NV",
         "rawType": "int32",
         "type": "integer"
        },
        {
         "name": "state_NY",
         "rawType": "int32",
         "type": "integer"
        },
        {
         "name": "state_OH",
         "rawType": "int32",
         "type": "integer"
        },
        {
         "name": "state_OK",
         "rawType": "int32",
         "type": "integer"
        },
        {
         "name": "state_OR",
         "rawType": "int32",
         "type": "integer"
        },
        {
         "name": "state_PA",
         "rawType": "int32",
         "type": "integer"
        },
        {
         "name": "state_RI",
         "rawType": "int32",
         "type": "integer"
        },
        {
         "name": "state_SC",
         "rawType": "int32",
         "type": "integer"
        },
        {
         "name": "state_SD",
         "rawType": "int32",
         "type": "integer"
        },
        {
         "name": "state_TN",
         "rawType": "int32",
         "type": "integer"
        },
        {
         "name": "state_TX",
         "rawType": "int32",
         "type": "integer"
        },
        {
         "name": "state_UT",
         "rawType": "int32",
         "type": "integer"
        },
        {
         "name": "state_VA",
         "rawType": "int32",
         "type": "integer"
        },
        {
         "name": "state_VT",
         "rawType": "int32",
         "type": "integer"
        },
        {
         "name": "state_WA",
         "rawType": "int32",
         "type": "integer"
        },
        {
         "name": "state_WI",
         "rawType": "int32",
         "type": "integer"
        },
        {
         "name": "state_WV",
         "rawType": "int32",
         "type": "integer"
        },
        {
         "name": "state_WY",
         "rawType": "int32",
         "type": "integer"
        }
       ],
       "ref": "18f2402c-3492-4ffc-910e-d8fe3eb3f676",
       "rows": [
        [
         "0",
         "128",
         "0",
         "1",
         "25",
         "265.1",
         "110",
         "45.07",
         "197.4",
         "99",
         "16.78",
         "244.7",
         "91",
         "11.01",
         "10.0",
         "3",
         "2.7",
         "1",
         "0",
         "0",
         "0",
         "0",
         "0",
         "0",
         "0",
         "0",
         "0",
         "0",
         "0",
         "0",
         "0",
         "0",
         "0",
         "0",
         "1",
         "0",
         "0",
         "0",
         "0",
         "0",
         "0",
         "0",
         "0",
         "0",
         "0",
         "0",
         "0",
         "0",
         "0",
         "0",
         "0",
         "0",
         "0",
         "0",
         "0",
         "0",
         "0",
         "0",
         "0",
         "0",
         "0",
         "0",
         "0",
         "0",
         "0",
         "0",
         "0",
         "0",
         "0"
        ],
        [
         "1",
         "107",
         "0",
         "1",
         "26",
         "161.6",
         "123",
         "27.47",
         "195.5",
         "103",
         "16.62",
         "254.4",
         "103",
         "11.45",
         "13.7",
         "3",
         "3.7",
         "1",
         "0",
         "0",
         "0",
         "0",
         "0",
         "0",
         "0",
         "0",
         "0",
         "0",
         "0",
         "0",
         "0",
         "0",
         "0",
         "0",
         "0",
         "0",
         "0",
         "0",
         "0",
         "0",
         "0",
         "0",
         "0",
         "0",
         "0",
         "0",
         "0",
         "0",
         "0",
         "0",
         "0",
         "0",
         "0",
         "1",
         "0",
         "0",
         "0",
         "0",
         "0",
         "0",
         "0",
         "0",
         "0",
         "0",
         "0",
         "0",
         "0",
         "0",
         "0"
        ],
        [
         "2",
         "137",
         "0",
         "0",
         "0",
         "243.4",
         "114",
         "41.38",
         "121.2",
         "110",
         "10.3",
         "162.6",
         "104",
         "7.32",
         "12.2",
         "5",
         "3.29",
         "0",
         "0",
         "0",
         "0",
         "0",
         "0",
         "0",
         "0",
         "0",
         "0",
         "0",
         "0",
         "0",
         "0",
         "0",
         "0",
         "0",
         "0",
         "0",
         "0",
         "0",
         "0",
         "0",
         "0",
         "0",
         "0",
         "0",
         "0",
         "0",
         "0",
         "0",
         "0",
         "1",
         "0",
         "0",
         "0",
         "0",
         "0",
         "0",
         "0",
         "0",
         "0",
         "0",
         "0",
         "0",
         "0",
         "0",
         "0",
         "0",
         "0",
         "0",
         "0"
        ],
        [
         "3",
         "84",
         "1",
         "0",
         "0",
         "299.4",
         "71",
         "50.9",
         "61.9",
         "88",
         "5.26",
         "196.9",
         "89",
         "8.86",
         "6.6",
         "7",
         "1.78",
         "2",
         "0",
         "0",
         "0",
         "0",
         "0",
         "0",
         "0",
         "0",
         "0",
         "0",
         "0",
         "0",
         "0",
         "0",
         "0",
         "0",
         "0",
         "0",
         "0",
         "0",
         "0",
         "0",
         "0",
         "0",
         "0",
         "0",
         "0",
         "0",
         "0",
         "0",
         "0",
         "0",
         "0",
         "0",
         "0",
         "1",
         "0",
         "0",
         "0",
         "0",
         "0",
         "0",
         "0",
         "0",
         "0",
         "0",
         "0",
         "0",
         "0",
         "0",
         "0"
        ],
        [
         "4",
         "75",
         "1",
         "0",
         "0",
         "166.7",
         "113",
         "28.34",
         "148.3",
         "122",
         "12.61",
         "186.9",
         "121",
         "8.41",
         "10.1",
         "3",
         "2.73",
         "3",
         "0",
         "0",
         "0",
         "0",
         "0",
         "0",
         "0",
         "0",
         "0",
         "0",
         "0",
         "0",
         "0",
         "0",
         "0",
         "0",
         "0",
         "0",
         "0",
         "0",
         "0",
         "0",
         "0",
         "0",
         "0",
         "0",
         "0",
         "0",
         "0",
         "0",
         "0",
         "0",
         "0",
         "0",
         "0",
         "0",
         "1",
         "0",
         "0",
         "0",
         "0",
         "0",
         "0",
         "0",
         "0",
         "0",
         "0",
         "0",
         "0",
         "0",
         "0"
        ]
       ],
       "shape": {
        "columns": 68,
        "rows": 5
       }
      },
      "text/html": [
       "<div>\n",
       "<style scoped>\n",
       "    .dataframe tbody tr th:only-of-type {\n",
       "        vertical-align: middle;\n",
       "    }\n",
       "\n",
       "    .dataframe tbody tr th {\n",
       "        vertical-align: top;\n",
       "    }\n",
       "\n",
       "    .dataframe thead th {\n",
       "        text-align: right;\n",
       "    }\n",
       "</style>\n",
       "<table border=\"1\" class=\"dataframe\">\n",
       "  <thead>\n",
       "    <tr style=\"text-align: right;\">\n",
       "      <th></th>\n",
       "      <th>account_length</th>\n",
       "      <th>international_plan</th>\n",
       "      <th>voice_mail_plan</th>\n",
       "      <th>number_vmail_messages</th>\n",
       "      <th>total_day_minutes</th>\n",
       "      <th>total_day_calls</th>\n",
       "      <th>total_day_charge</th>\n",
       "      <th>total_eve_minutes</th>\n",
       "      <th>total_eve_calls</th>\n",
       "      <th>total_eve_charge</th>\n",
       "      <th>...</th>\n",
       "      <th>state_SD</th>\n",
       "      <th>state_TN</th>\n",
       "      <th>state_TX</th>\n",
       "      <th>state_UT</th>\n",
       "      <th>state_VA</th>\n",
       "      <th>state_VT</th>\n",
       "      <th>state_WA</th>\n",
       "      <th>state_WI</th>\n",
       "      <th>state_WV</th>\n",
       "      <th>state_WY</th>\n",
       "    </tr>\n",
       "  </thead>\n",
       "  <tbody>\n",
       "    <tr>\n",
       "      <th>0</th>\n",
       "      <td>128</td>\n",
       "      <td>0</td>\n",
       "      <td>1</td>\n",
       "      <td>25</td>\n",
       "      <td>265.1</td>\n",
       "      <td>110</td>\n",
       "      <td>45.07</td>\n",
       "      <td>197.4</td>\n",
       "      <td>99</td>\n",
       "      <td>16.78</td>\n",
       "      <td>...</td>\n",
       "      <td>0</td>\n",
       "      <td>0</td>\n",
       "      <td>0</td>\n",
       "      <td>0</td>\n",
       "      <td>0</td>\n",
       "      <td>0</td>\n",
       "      <td>0</td>\n",
       "      <td>0</td>\n",
       "      <td>0</td>\n",
       "      <td>0</td>\n",
       "    </tr>\n",
       "    <tr>\n",
       "      <th>1</th>\n",
       "      <td>107</td>\n",
       "      <td>0</td>\n",
       "      <td>1</td>\n",
       "      <td>26</td>\n",
       "      <td>161.6</td>\n",
       "      <td>123</td>\n",
       "      <td>27.47</td>\n",
       "      <td>195.5</td>\n",
       "      <td>103</td>\n",
       "      <td>16.62</td>\n",
       "      <td>...</td>\n",
       "      <td>0</td>\n",
       "      <td>0</td>\n",
       "      <td>0</td>\n",
       "      <td>0</td>\n",
       "      <td>0</td>\n",
       "      <td>0</td>\n",
       "      <td>0</td>\n",
       "      <td>0</td>\n",
       "      <td>0</td>\n",
       "      <td>0</td>\n",
       "    </tr>\n",
       "    <tr>\n",
       "      <th>2</th>\n",
       "      <td>137</td>\n",
       "      <td>0</td>\n",
       "      <td>0</td>\n",
       "      <td>0</td>\n",
       "      <td>243.4</td>\n",
       "      <td>114</td>\n",
       "      <td>41.38</td>\n",
       "      <td>121.2</td>\n",
       "      <td>110</td>\n",
       "      <td>10.30</td>\n",
       "      <td>...</td>\n",
       "      <td>0</td>\n",
       "      <td>0</td>\n",
       "      <td>0</td>\n",
       "      <td>0</td>\n",
       "      <td>0</td>\n",
       "      <td>0</td>\n",
       "      <td>0</td>\n",
       "      <td>0</td>\n",
       "      <td>0</td>\n",
       "      <td>0</td>\n",
       "    </tr>\n",
       "    <tr>\n",
       "      <th>3</th>\n",
       "      <td>84</td>\n",
       "      <td>1</td>\n",
       "      <td>0</td>\n",
       "      <td>0</td>\n",
       "      <td>299.4</td>\n",
       "      <td>71</td>\n",
       "      <td>50.90</td>\n",
       "      <td>61.9</td>\n",
       "      <td>88</td>\n",
       "      <td>5.26</td>\n",
       "      <td>...</td>\n",
       "      <td>0</td>\n",
       "      <td>0</td>\n",
       "      <td>0</td>\n",
       "      <td>0</td>\n",
       "      <td>0</td>\n",
       "      <td>0</td>\n",
       "      <td>0</td>\n",
       "      <td>0</td>\n",
       "      <td>0</td>\n",
       "      <td>0</td>\n",
       "    </tr>\n",
       "    <tr>\n",
       "      <th>4</th>\n",
       "      <td>75</td>\n",
       "      <td>1</td>\n",
       "      <td>0</td>\n",
       "      <td>0</td>\n",
       "      <td>166.7</td>\n",
       "      <td>113</td>\n",
       "      <td>28.34</td>\n",
       "      <td>148.3</td>\n",
       "      <td>122</td>\n",
       "      <td>12.61</td>\n",
       "      <td>...</td>\n",
       "      <td>0</td>\n",
       "      <td>0</td>\n",
       "      <td>0</td>\n",
       "      <td>0</td>\n",
       "      <td>0</td>\n",
       "      <td>0</td>\n",
       "      <td>0</td>\n",
       "      <td>0</td>\n",
       "      <td>0</td>\n",
       "      <td>0</td>\n",
       "    </tr>\n",
       "  </tbody>\n",
       "</table>\n",
       "<p>5 rows × 68 columns</p>\n",
       "</div>"
      ],
      "text/plain": [
       "   account_length  international_plan  voice_mail_plan  number_vmail_messages  \\\n",
       "0             128                   0                1                     25   \n",
       "1             107                   0                1                     26   \n",
       "2             137                   0                0                      0   \n",
       "3              84                   1                0                      0   \n",
       "4              75                   1                0                      0   \n",
       "\n",
       "   total_day_minutes  total_day_calls  total_day_charge  total_eve_minutes  \\\n",
       "0              265.1              110             45.07              197.4   \n",
       "1              161.6              123             27.47              195.5   \n",
       "2              243.4              114             41.38              121.2   \n",
       "3              299.4               71             50.90               61.9   \n",
       "4              166.7              113             28.34              148.3   \n",
       "\n",
       "   total_eve_calls  total_eve_charge  ...  state_SD  state_TN  state_TX  \\\n",
       "0               99             16.78  ...         0         0         0   \n",
       "1              103             16.62  ...         0         0         0   \n",
       "2              110             10.30  ...         0         0         0   \n",
       "3               88              5.26  ...         0         0         0   \n",
       "4              122             12.61  ...         0         0         0   \n",
       "\n",
       "   state_UT  state_VA  state_VT  state_WA  state_WI  state_WV  state_WY  \n",
       "0         0         0         0         0         0         0         0  \n",
       "1         0         0         0         0         0         0         0  \n",
       "2         0         0         0         0         0         0         0  \n",
       "3         0         0         0         0         0         0         0  \n",
       "4         0         0         0         0         0         0         0  \n",
       "\n",
       "[5 rows x 68 columns]"
      ]
     },
     "execution_count": 62,
     "metadata": {},
     "output_type": "execute_result"
    }
   ],
   "source": [
    "# Map churn to 0/1\n",
    "df_churn_prep['churn'] = df_churn_prep['churn'].map({False: 0, True: 1})\n",
    "\n",
    "# Encode binary yes/no features\n",
    "df_churn_prep['international_plan'] = df_churn_prep['international_plan'].map({'no': 0, 'yes': 1})\n",
    "df_churn_prep['voice_mail_plan']    = df_churn_prep['voice_mail_plan'].map({'no': 0, 'yes': 1})\n",
    "\n",
    "# One-hot encode state\n",
    "df_churn_prep = pd.get_dummies(df_churn_prep, columns=['state'], drop_first=True)\n",
    "\n",
    "# Cast boolean one-hot flags to integers\n",
    "bool_cols = df_churn_prep.select_dtypes(include='bool').columns\n",
    "df_churn_prep[bool_cols] = df_churn_prep[bool_cols].astype(int)\n",
    "\n",
    "# Quick check\n",
    "print(\"After encoding, df_churn_prep shape:\", df_churn_prep.shape)\n",
    "df_churn_prep.head()"
   ]
  },
  {
   "cell_type": "markdown",
   "metadata": {},
   "source": [
    "### 4.4 Feature Engineering: Tenure Buckets\n",
    "\n",
    "Based on the plotted boxplot, churn risk varied by how long someone’s been with SyriaTel. Creating these “tenure_bucket” flags can help models pick up on non-linear tenure effects. I’ll group `account_length` into three buckets:\n",
    "\n",
    "1. **0–12 months**  \n",
    "2. **13–48 months**  \n",
    "3. **49+ months**"
   ]
  },
  {
   "cell_type": "code",
   "execution_count": 63,
   "metadata": {},
   "outputs": [
    {
     "data": {
      "application/vnd.microsoft.datawrangler.viewer.v0+json": {
       "columns": [
        {
         "name": "tenure_bucket",
         "rawType": "category",
         "type": "unknown"
        },
        {
         "name": "count",
         "rawType": "int64",
         "type": "integer"
        }
       ],
       "ref": "382b6ae3-dcf4-4608-a548-3110cf04d384",
       "rows": [
        [
         "0–12mo",
         "34"
        ],
        [
         "13–48mo",
         "285"
        ],
        [
         "49+mo",
         "3014"
        ]
       ],
       "shape": {
        "columns": 1,
        "rows": 3
       }
      },
      "text/plain": [
       "tenure_bucket\n",
       "0–12mo       34\n",
       "13–48mo     285\n",
       "49+mo      3014\n",
       "Name: count, dtype: int64"
      ]
     },
     "execution_count": 63,
     "metadata": {},
     "output_type": "execute_result"
    }
   ],
   "source": [
    "# Create tenure buckets\n",
    "df_churn_prep['tenure_bucket'] = pd.cut(\n",
    "    df_churn_prep['account_length'],\n",
    "    bins=[-1, 12, 48, df_churn_prep['account_length'].max()],\n",
    "    labels=['0–12mo','13–48mo','49+mo']\n",
    ")\n",
    "\n",
    "# Showing the new column distribution\n",
    "df_churn_prep['tenure_bucket'].value_counts().sort_index()"
   ]
  },
  {
   "cell_type": "markdown",
   "metadata": {},
   "source": [
    "### 4.5 One-Hot Encode Tenure Buckets\n",
    "\n",
    "I’ll convert the `tenure_bucket` categories into separate indicator columns so the model can weigh each bucket independently."
   ]
  },
  {
   "cell_type": "code",
   "execution_count": 64,
   "metadata": {},
   "outputs": [
    {
     "name": "stdout",
     "output_type": "stream",
     "text": [
      "['tenure_13–48mo', 'tenure_49+mo']\n"
     ]
    },
    {
     "data": {
      "application/vnd.microsoft.datawrangler.viewer.v0+json": {
       "columns": [
        {
         "name": "index",
         "rawType": "int64",
         "type": "integer"
        },
        {
         "name": "tenure_13–48mo",
         "rawType": "bool",
         "type": "boolean"
        },
        {
         "name": "tenure_49+mo",
         "rawType": "bool",
         "type": "boolean"
        }
       ],
       "ref": "303e0790-cead-485f-84a6-d7345ea3621b",
       "rows": [
        [
         "0",
         "False",
         "True"
        ],
        [
         "1",
         "False",
         "True"
        ],
        [
         "2",
         "False",
         "True"
        ],
        [
         "3",
         "False",
         "True"
        ],
        [
         "4",
         "False",
         "True"
        ]
       ],
       "shape": {
        "columns": 2,
        "rows": 5
       }
      },
      "text/html": [
       "<div>\n",
       "<style scoped>\n",
       "    .dataframe tbody tr th:only-of-type {\n",
       "        vertical-align: middle;\n",
       "    }\n",
       "\n",
       "    .dataframe tbody tr th {\n",
       "        vertical-align: top;\n",
       "    }\n",
       "\n",
       "    .dataframe thead th {\n",
       "        text-align: right;\n",
       "    }\n",
       "</style>\n",
       "<table border=\"1\" class=\"dataframe\">\n",
       "  <thead>\n",
       "    <tr style=\"text-align: right;\">\n",
       "      <th></th>\n",
       "      <th>tenure_13–48mo</th>\n",
       "      <th>tenure_49+mo</th>\n",
       "    </tr>\n",
       "  </thead>\n",
       "  <tbody>\n",
       "    <tr>\n",
       "      <th>0</th>\n",
       "      <td>False</td>\n",
       "      <td>True</td>\n",
       "    </tr>\n",
       "    <tr>\n",
       "      <th>1</th>\n",
       "      <td>False</td>\n",
       "      <td>True</td>\n",
       "    </tr>\n",
       "    <tr>\n",
       "      <th>2</th>\n",
       "      <td>False</td>\n",
       "      <td>True</td>\n",
       "    </tr>\n",
       "    <tr>\n",
       "      <th>3</th>\n",
       "      <td>False</td>\n",
       "      <td>True</td>\n",
       "    </tr>\n",
       "    <tr>\n",
       "      <th>4</th>\n",
       "      <td>False</td>\n",
       "      <td>True</td>\n",
       "    </tr>\n",
       "  </tbody>\n",
       "</table>\n",
       "</div>"
      ],
      "text/plain": [
       "   tenure_13–48mo  tenure_49+mo\n",
       "0           False          True\n",
       "1           False          True\n",
       "2           False          True\n",
       "3           False          True\n",
       "4           False          True"
      ]
     },
     "execution_count": 64,
     "metadata": {},
     "output_type": "execute_result"
    }
   ],
   "source": [
    "# One-hot encode the tenure buckets\n",
    "df_churn_prep = pd.get_dummies(\n",
    "    df_churn_prep,\n",
    "    columns=['tenure_bucket'],\n",
    "    prefix='tenure',\n",
    "    drop_first=True\n",
    ")\n",
    "\n",
    "# Confirm the new columns\n",
    "print([c for c in df_churn_prep.columns if c.startswith('tenure_')])\n",
    "df_churn_prep[['tenure_13–48mo', 'tenure_49+mo']].head()"
   ]
  },
  {
   "cell_type": "markdown",
   "metadata": {},
   "source": [
    "#### 4.6 Casting Tenure Flags to Integers\n",
    "\n",
    "To keep all features consistently numeric, I’ll convert the newly created `tenure_13–48mo` and `tenure_49+mo` columns from booleans into `0`/`1` integers."
   ]
  },
  {
   "cell_type": "code",
   "execution_count": 65,
   "metadata": {},
   "outputs": [
    {
     "data": {
      "application/vnd.microsoft.datawrangler.viewer.v0+json": {
       "columns": [
        {
         "name": "index",
         "rawType": "int64",
         "type": "integer"
        },
        {
         "name": "tenure_13–48mo",
         "rawType": "int32",
         "type": "integer"
        },
        {
         "name": "tenure_49+mo",
         "rawType": "int32",
         "type": "integer"
        }
       ],
       "ref": "49651444-cdcf-4d0a-a742-0bbf2dd8800b",
       "rows": [
        [
         "0",
         "0",
         "1"
        ],
        [
         "1",
         "0",
         "1"
        ],
        [
         "2",
         "0",
         "1"
        ],
        [
         "3",
         "0",
         "1"
        ],
        [
         "4",
         "0",
         "1"
        ]
       ],
       "shape": {
        "columns": 2,
        "rows": 5
       }
      },
      "text/html": [
       "<div>\n",
       "<style scoped>\n",
       "    .dataframe tbody tr th:only-of-type {\n",
       "        vertical-align: middle;\n",
       "    }\n",
       "\n",
       "    .dataframe tbody tr th {\n",
       "        vertical-align: top;\n",
       "    }\n",
       "\n",
       "    .dataframe thead th {\n",
       "        text-align: right;\n",
       "    }\n",
       "</style>\n",
       "<table border=\"1\" class=\"dataframe\">\n",
       "  <thead>\n",
       "    <tr style=\"text-align: right;\">\n",
       "      <th></th>\n",
       "      <th>tenure_13–48mo</th>\n",
       "      <th>tenure_49+mo</th>\n",
       "    </tr>\n",
       "  </thead>\n",
       "  <tbody>\n",
       "    <tr>\n",
       "      <th>0</th>\n",
       "      <td>0</td>\n",
       "      <td>1</td>\n",
       "    </tr>\n",
       "    <tr>\n",
       "      <th>1</th>\n",
       "      <td>0</td>\n",
       "      <td>1</td>\n",
       "    </tr>\n",
       "    <tr>\n",
       "      <th>2</th>\n",
       "      <td>0</td>\n",
       "      <td>1</td>\n",
       "    </tr>\n",
       "    <tr>\n",
       "      <th>3</th>\n",
       "      <td>0</td>\n",
       "      <td>1</td>\n",
       "    </tr>\n",
       "    <tr>\n",
       "      <th>4</th>\n",
       "      <td>0</td>\n",
       "      <td>1</td>\n",
       "    </tr>\n",
       "  </tbody>\n",
       "</table>\n",
       "</div>"
      ],
      "text/plain": [
       "   tenure_13–48mo  tenure_49+mo\n",
       "0               0             1\n",
       "1               0             1\n",
       "2               0             1\n",
       "3               0             1\n",
       "4               0             1"
      ]
     },
     "execution_count": 65,
     "metadata": {},
     "output_type": "execute_result"
    }
   ],
   "source": [
    "# Cast tenure buckets to 0/1\n",
    "tenure_cols = [c for c in df_churn_prep.columns if c.startswith('tenure_')]\n",
    "df_churn_prep[tenure_cols] = df_churn_prep[tenure_cols].astype(int)\n",
    "\n",
    "# Verify\n",
    "df_churn_prep[tenure_cols].head()"
   ]
  },
  {
   "cell_type": "markdown",
   "metadata": {},
   "source": [
    "### 4.7 Train/Test Split\n",
    "\n",
    "Before I build any models, I’ll split my prepared data into training and test sets, making sure to preserve the 85.5%/14.5% churn ratio with a stratified split. This ensures my evaluation metrics are realistic.\n",
    "\n",
    "- **Features (`X`)**: all columns except `churn`  \n",
    "- **Target (`y`)**: the `churn` column  \n",
    "- **Split**: 80% train, 20% test  \n",
    "- **Stratify**: by `y` so the class imbalance stays the same in both sets  \n",
    "- **Random state**: 42 for reproducibility "
   ]
  },
  {
   "cell_type": "code",
   "execution_count": 66,
   "metadata": {},
   "outputs": [
    {
     "name": "stdout",
     "output_type": "stream",
     "text": [
      "Train churn distribution:\n",
      " churn\n",
      "0    0.855\n",
      "1    0.145\n",
      "Name: proportion, dtype: float64\n",
      "\n",
      "Test churn distribution:\n",
      " churn\n",
      "0    0.855\n",
      "1    0.145\n",
      "Name: proportion, dtype: float64\n"
     ]
    }
   ],
   "source": [
    "# Define x and y\n",
    "X = df_churn_prep.drop('churn', axis=1)\n",
    "y = df_churn_prep['churn']\n",
    "\n",
    "# Stratified train/test split\n",
    "X_train, X_test, y_train, y_test = train_test_split(X, y,test_size=0.2,stratify=y,random_state=42)\n",
    "\n",
    "# Quick check of proportions\n",
    "print(\"Train churn distribution:\\n\", y_train.value_counts(normalize=True).round(3))\n",
    "print(\"\\nTest churn distribution:\\n\",  y_test.value_counts(normalize=True).round(3))"
   ]
  },
  {
   "cell_type": "markdown",
   "metadata": {},
   "source": [
    "### 4.8 Scaling Numeric Features (after the 80/20 split)\n",
    "\n",
    "I’ll scale my numeric columns so they all live on a similar range. This helps models like logistic regression and KNN perform better, since no single feature like total minutes vs. call counts will dominate because of its scale.\n",
    "\n",
    "1. Identify the numeric columns ie everything except our target `churn` and the one-hot indicators.  \n",
    "2. Fit a `StandardScaler` on the training data and transform these columns to have mean = 0, standard deviation = 1.  \n",
    "3. Verify that the scaled columns now have roughly zero mean and unit variance."
   ]
  },
  {
   "cell_type": "code",
   "execution_count": null,
   "metadata": {},
   "outputs": [],
   "source": [
    "# Identify numeric columns (excluding the target which is churn)\n",
    "numeric_cols = X_train.select_dtypes(include=['int64','float64']).columns.tolist()\n",
    "\n",
    "# Just in case, ensure 'churn' isn't in there\n",
    "if 'churn' in numeric_cols:\n",
    "    numeric_cols.remove('churn')\n",
    "\n",
    "# Instantiate the scaler\n",
    "scaler = StandardScaler()\n",
    "\n",
    "# Fit the scaler ONLY on the training data\n",
    "scaler.fit(X_train[numeric_cols])\n",
    "\n",
    "# Transform both the training and test data using the fitted scaler\n",
    "X_train[numeric_cols] = scaler.transform(X_train[numeric_cols])\n",
    "X_test[numeric_cols] = scaler.transform(X_test[numeric_cols])\n",
    "\n",
    "# Quick sanity check on training data\n",
    "print(\"Train means (should be ~0):\\n\", X_train[numeric_cols].mean().round(2).head())\n",
    "print(\"\\nTrain stds  (should be ~1):\\n\", X_train[numeric_cols].std().round(2).head())"
   ]
  },
  {
   "cell_type": "markdown",
   "metadata": {},
   "source": [
    "#### 4.9 Confirming with a Pipeline\n",
    "To make my workflow reproducible, I’ll now wrap all those manual steps into one `Pipeline` and verify it produces the same transformed shape."
   ]
  },
  {
   "cell_type": "code",
   "execution_count": 59,
   "metadata": {},
   "outputs": [
    {
     "name": "stdout",
     "output_type": "stream",
     "text": [
      "Original X_train shape: (2666, 20)\n",
      "Prepared X_train shape: (2666, 69)\n",
      "Original X_test shape:  (667, 20)\n",
      "Prepared X_test shape:  (667, 69)\n"
     ]
    }
   ],
   "source": [
    "# Make a safe copy of the loaded data\n",
    "df = df_churn.copy()\n",
    "\n",
    "# Split into features (X) and target (y)\n",
    "X = df.drop(columns='churn')\n",
    "y = df['churn'].astype(int)\n",
    "\n",
    "# Stratified train/test split (80% train / 20% test)\n",
    "X_train, X_test, y_train, y_test = train_test_split(X, y,stratify=y,test_size=0.2,random_state=42)\n",
    "\n",
    "# define columns by role\n",
    "id_cols    = ['phone_number', 'area_code']                # identifiers to drop\n",
    "tenure_col = ['account_length']                           # to bucket\n",
    "plan_cols  = ['international_plan', 'voice_mail_plan']    # binary plans to encode\n",
    "state_col  = ['state']                                    # categorical region\n",
    "num_cols   = [                                          \n",
    "    col for col in X_train.select_dtypes(include=['int64','float64']).columns\n",
    "    if col not in id_cols + plan_cols + state_col\n",
    "]\n",
    "\n",
    "# Build the preprocessing pipeline\n",
    "# Custom tenure‐bucket FunctionTransformer\n",
    "def make_tenure_flags(df_in):\n",
    "    bins   = [-1, 12, 48, df_in['account_length'].max()]\n",
    "    labels = ['0-12mo','13-48mo','49+mo']\n",
    "    tb     = pd.get_dummies(\n",
    "        pd.cut(df_in['account_length'], bins=bins, labels=labels),\n",
    "        prefix='tenure',\n",
    "        drop_first=True\n",
    "    )\n",
    "    return tb.astype(int)\n",
    "\n",
    "tenure_transformer = FunctionTransformer(make_tenure_flags, validate=False)\n",
    "\n",
    "# Combine all preprocessing steps\n",
    "preprocessor = ColumnTransformer(\n",
    "    transformers=[\n",
    "        ('drop_ids','drop', id_cols),\n",
    "        ('tenure_bins', tenure_transformer,tenure_col),\n",
    "        ('state_ohe', OneHotEncoder(drop='first', handle_unknown='ignore', sparse_output=False), state_col),\n",
    "        ('plan_ohe', OneHotEncoder(drop='if_binary', sparse_output=False),plan_cols),\n",
    "        ('scale_num', StandardScaler(), num_cols),\n",
    "    ],\n",
    "    remainder='drop'\n",
    ")\n",
    "\n",
    "# Full pipeline\n",
    "full_pipeline = Pipeline([('preprocessing', preprocessor)])\n",
    "\n",
    "# Fit & transform\n",
    "X_train_prepared = full_pipeline.fit_transform(X_train)\n",
    "X_test_prepared  = full_pipeline.transform(X_test)\n",
    "\n",
    "# Sanity check shapes\n",
    "print(f\"Original X_train shape: {X_train.shape}\")\n",
    "print(f\"Prepared X_train shape: {X_train_prepared.shape}\")\n",
    "print(f\"Original X_test shape:  {X_test.shape}\")\n",
    "print(f\"Prepared X_test shape:  {X_test_prepared.shape}\")"
   ]
  },
  {
   "cell_type": "code",
   "execution_count": 58,
   "metadata": {},
   "outputs": [],
   "source": [
    "# I was using this to confirm the manual data matches the pipeline since I felt manual was easy for me than pipleine.\n",
    "\n",
    "# Grab the manual X_train slice\n",
    "#X_train_manual = X_train.copy()\n",
    "\n",
    "# Print its shape (rows, columns)\n",
    "#print(\"Manual X_train shape:\", X_train_manual.shape)\n",
    "\n",
    "# List the feature names and count\n",
    "#manual_cols = X_train_manual.columns.tolist()\n",
    "#print(f\"Manual feature count: {len(manual_cols)}\")\n",
    "#print(\"Manual features:\", manual_cols)\n",
    "#print(\"Pipeline feature count:\", X_train_prepared.shape[1])\n"
   ]
  },
  {
   "cell_type": "markdown",
   "metadata": {},
   "source": [
    "### Conclusion: Pipeline vs. Manual Preprocessing\n",
    "\n",
    "- **Identical Feature Count:** Both manual and pipeline approaches yield **69 features** after dropping identifiers, creating tenure buckets, encoding categoricals, and scaling numerics.  \n",
    "- **Matching Feature Shapes:** The training set shapes match exactly **(2666, 69)** for both `X_train` and `X_train_prepared`. \n",
    "- **Reproducibility & Maintainability:** By encapsulating the manual steps in a single `Pipeline`, it ensures no train/test leakage, easier code maintenance, and seamless application to new data.\n",
    "\n",
    "With this verification complete, I can confidently proceed to modeling, knowing the pipeline exactly mirrors the manual preprocess."
   ]
  },
  {
   "cell_type": "markdown",
   "metadata": {},
   "source": [
    "## 5. Modeling"
   ]
  },
  {
   "cell_type": "markdown",
   "metadata": {},
   "source": [
    "## 5.1 Baseline with Logistic Regression\n",
    "\n",
    "I’ll start with a logistic regression as the baseline to get a feel for how a simple linear model performs since it's widely used for churn prediction due to its simplicity, interpretability, and speed. \n",
    "# This model provides a useful reference point for evaluating more complex models later.\n",
    "\n",
    "1. **Instantiate** the model, asking it to balance the churn class automatically.  \n",
    "2. **Train** it on the 80% train split so it learns patterns in usage, tenure, support calls, etc.  \n",
    "3. **Predict** on the 20% test split to see what it guesses for new, unseen customers.  \n",
    "4. **Evaluate** using recall so I catch as many churners as possible and ROC-AUC to gauge overall separability. Finally, I’ll inspect a confusion matrix to understand the nature of any errors."
   ]
  },
  {
   "cell_type": "markdown",
   "metadata": {},
   "source": [
    "#####  Instantiate Logistic Regression & Fit the Model\n",
    "\n",
    "I’ll create the model object, telling it to balance the classes automatically and then train the logistic regression on the training set so it learns the relationship between features and churn."
   ]
  },
  {
   "cell_type": "code",
   "execution_count": 80,
   "metadata": {},
   "outputs": [
    {
     "data": {
      "text/html": [
       "<style>#sk-container-id-1 {\n",
       "  /* Definition of color scheme common for light and dark mode */\n",
       "  --sklearn-color-text: black;\n",
       "  --sklearn-color-line: gray;\n",
       "  /* Definition of color scheme for unfitted estimators */\n",
       "  --sklearn-color-unfitted-level-0: #fff5e6;\n",
       "  --sklearn-color-unfitted-level-1: #f6e4d2;\n",
       "  --sklearn-color-unfitted-level-2: #ffe0b3;\n",
       "  --sklearn-color-unfitted-level-3: chocolate;\n",
       "  /* Definition of color scheme for fitted estimators */\n",
       "  --sklearn-color-fitted-level-0: #f0f8ff;\n",
       "  --sklearn-color-fitted-level-1: #d4ebff;\n",
       "  --sklearn-color-fitted-level-2: #b3dbfd;\n",
       "  --sklearn-color-fitted-level-3: cornflowerblue;\n",
       "\n",
       "  /* Specific color for light theme */\n",
       "  --sklearn-color-text-on-default-background: var(--sg-text-color, var(--theme-code-foreground, var(--jp-content-font-color1, black)));\n",
       "  --sklearn-color-background: var(--sg-background-color, var(--theme-background, var(--jp-layout-color0, white)));\n",
       "  --sklearn-color-border-box: var(--sg-text-color, var(--theme-code-foreground, var(--jp-content-font-color1, black)));\n",
       "  --sklearn-color-icon: #696969;\n",
       "\n",
       "  @media (prefers-color-scheme: dark) {\n",
       "    /* Redefinition of color scheme for dark theme */\n",
       "    --sklearn-color-text-on-default-background: var(--sg-text-color, var(--theme-code-foreground, var(--jp-content-font-color1, white)));\n",
       "    --sklearn-color-background: var(--sg-background-color, var(--theme-background, var(--jp-layout-color0, #111)));\n",
       "    --sklearn-color-border-box: var(--sg-text-color, var(--theme-code-foreground, var(--jp-content-font-color1, white)));\n",
       "    --sklearn-color-icon: #878787;\n",
       "  }\n",
       "}\n",
       "\n",
       "#sk-container-id-1 {\n",
       "  color: var(--sklearn-color-text);\n",
       "}\n",
       "\n",
       "#sk-container-id-1 pre {\n",
       "  padding: 0;\n",
       "}\n",
       "\n",
       "#sk-container-id-1 input.sk-hidden--visually {\n",
       "  border: 0;\n",
       "  clip: rect(1px 1px 1px 1px);\n",
       "  clip: rect(1px, 1px, 1px, 1px);\n",
       "  height: 1px;\n",
       "  margin: -1px;\n",
       "  overflow: hidden;\n",
       "  padding: 0;\n",
       "  position: absolute;\n",
       "  width: 1px;\n",
       "}\n",
       "\n",
       "#sk-container-id-1 div.sk-dashed-wrapped {\n",
       "  border: 1px dashed var(--sklearn-color-line);\n",
       "  margin: 0 0.4em 0.5em 0.4em;\n",
       "  box-sizing: border-box;\n",
       "  padding-bottom: 0.4em;\n",
       "  background-color: var(--sklearn-color-background);\n",
       "}\n",
       "\n",
       "#sk-container-id-1 div.sk-container {\n",
       "  /* jupyter's `normalize.less` sets `[hidden] { display: none; }`\n",
       "     but bootstrap.min.css set `[hidden] { display: none !important; }`\n",
       "     so we also need the `!important` here to be able to override the\n",
       "     default hidden behavior on the sphinx rendered scikit-learn.org.\n",
       "     See: https://github.com/scikit-learn/scikit-learn/issues/21755 */\n",
       "  display: inline-block !important;\n",
       "  position: relative;\n",
       "}\n",
       "\n",
       "#sk-container-id-1 div.sk-text-repr-fallback {\n",
       "  display: none;\n",
       "}\n",
       "\n",
       "div.sk-parallel-item,\n",
       "div.sk-serial,\n",
       "div.sk-item {\n",
       "  /* draw centered vertical line to link estimators */\n",
       "  background-image: linear-gradient(var(--sklearn-color-text-on-default-background), var(--sklearn-color-text-on-default-background));\n",
       "  background-size: 2px 100%;\n",
       "  background-repeat: no-repeat;\n",
       "  background-position: center center;\n",
       "}\n",
       "\n",
       "/* Parallel-specific style estimator block */\n",
       "\n",
       "#sk-container-id-1 div.sk-parallel-item::after {\n",
       "  content: \"\";\n",
       "  width: 100%;\n",
       "  border-bottom: 2px solid var(--sklearn-color-text-on-default-background);\n",
       "  flex-grow: 1;\n",
       "}\n",
       "\n",
       "#sk-container-id-1 div.sk-parallel {\n",
       "  display: flex;\n",
       "  align-items: stretch;\n",
       "  justify-content: center;\n",
       "  background-color: var(--sklearn-color-background);\n",
       "  position: relative;\n",
       "}\n",
       "\n",
       "#sk-container-id-1 div.sk-parallel-item {\n",
       "  display: flex;\n",
       "  flex-direction: column;\n",
       "}\n",
       "\n",
       "#sk-container-id-1 div.sk-parallel-item:first-child::after {\n",
       "  align-self: flex-end;\n",
       "  width: 50%;\n",
       "}\n",
       "\n",
       "#sk-container-id-1 div.sk-parallel-item:last-child::after {\n",
       "  align-self: flex-start;\n",
       "  width: 50%;\n",
       "}\n",
       "\n",
       "#sk-container-id-1 div.sk-parallel-item:only-child::after {\n",
       "  width: 0;\n",
       "}\n",
       "\n",
       "/* Serial-specific style estimator block */\n",
       "\n",
       "#sk-container-id-1 div.sk-serial {\n",
       "  display: flex;\n",
       "  flex-direction: column;\n",
       "  align-items: center;\n",
       "  background-color: var(--sklearn-color-background);\n",
       "  padding-right: 1em;\n",
       "  padding-left: 1em;\n",
       "}\n",
       "\n",
       "\n",
       "/* Toggleable style: style used for estimator/Pipeline/ColumnTransformer box that is\n",
       "clickable and can be expanded/collapsed.\n",
       "- Pipeline and ColumnTransformer use this feature and define the default style\n",
       "- Estimators will overwrite some part of the style using the `sk-estimator` class\n",
       "*/\n",
       "\n",
       "/* Pipeline and ColumnTransformer style (default) */\n",
       "\n",
       "#sk-container-id-1 div.sk-toggleable {\n",
       "  /* Default theme specific background. It is overwritten whether we have a\n",
       "  specific estimator or a Pipeline/ColumnTransformer */\n",
       "  background-color: var(--sklearn-color-background);\n",
       "}\n",
       "\n",
       "/* Toggleable label */\n",
       "#sk-container-id-1 label.sk-toggleable__label {\n",
       "  cursor: pointer;\n",
       "  display: block;\n",
       "  width: 100%;\n",
       "  margin-bottom: 0;\n",
       "  padding: 0.5em;\n",
       "  box-sizing: border-box;\n",
       "  text-align: center;\n",
       "}\n",
       "\n",
       "#sk-container-id-1 label.sk-toggleable__label-arrow:before {\n",
       "  /* Arrow on the left of the label */\n",
       "  content: \"▸\";\n",
       "  float: left;\n",
       "  margin-right: 0.25em;\n",
       "  color: var(--sklearn-color-icon);\n",
       "}\n",
       "\n",
       "#sk-container-id-1 label.sk-toggleable__label-arrow:hover:before {\n",
       "  color: var(--sklearn-color-text);\n",
       "}\n",
       "\n",
       "/* Toggleable content - dropdown */\n",
       "\n",
       "#sk-container-id-1 div.sk-toggleable__content {\n",
       "  max-height: 0;\n",
       "  max-width: 0;\n",
       "  overflow: hidden;\n",
       "  text-align: left;\n",
       "  /* unfitted */\n",
       "  background-color: var(--sklearn-color-unfitted-level-0);\n",
       "}\n",
       "\n",
       "#sk-container-id-1 div.sk-toggleable__content.fitted {\n",
       "  /* fitted */\n",
       "  background-color: var(--sklearn-color-fitted-level-0);\n",
       "}\n",
       "\n",
       "#sk-container-id-1 div.sk-toggleable__content pre {\n",
       "  margin: 0.2em;\n",
       "  border-radius: 0.25em;\n",
       "  color: var(--sklearn-color-text);\n",
       "  /* unfitted */\n",
       "  background-color: var(--sklearn-color-unfitted-level-0);\n",
       "}\n",
       "\n",
       "#sk-container-id-1 div.sk-toggleable__content.fitted pre {\n",
       "  /* unfitted */\n",
       "  background-color: var(--sklearn-color-fitted-level-0);\n",
       "}\n",
       "\n",
       "#sk-container-id-1 input.sk-toggleable__control:checked~div.sk-toggleable__content {\n",
       "  /* Expand drop-down */\n",
       "  max-height: 200px;\n",
       "  max-width: 100%;\n",
       "  overflow: auto;\n",
       "}\n",
       "\n",
       "#sk-container-id-1 input.sk-toggleable__control:checked~label.sk-toggleable__label-arrow:before {\n",
       "  content: \"▾\";\n",
       "}\n",
       "\n",
       "/* Pipeline/ColumnTransformer-specific style */\n",
       "\n",
       "#sk-container-id-1 div.sk-label input.sk-toggleable__control:checked~label.sk-toggleable__label {\n",
       "  color: var(--sklearn-color-text);\n",
       "  background-color: var(--sklearn-color-unfitted-level-2);\n",
       "}\n",
       "\n",
       "#sk-container-id-1 div.sk-label.fitted input.sk-toggleable__control:checked~label.sk-toggleable__label {\n",
       "  background-color: var(--sklearn-color-fitted-level-2);\n",
       "}\n",
       "\n",
       "/* Estimator-specific style */\n",
       "\n",
       "/* Colorize estimator box */\n",
       "#sk-container-id-1 div.sk-estimator input.sk-toggleable__control:checked~label.sk-toggleable__label {\n",
       "  /* unfitted */\n",
       "  background-color: var(--sklearn-color-unfitted-level-2);\n",
       "}\n",
       "\n",
       "#sk-container-id-1 div.sk-estimator.fitted input.sk-toggleable__control:checked~label.sk-toggleable__label {\n",
       "  /* fitted */\n",
       "  background-color: var(--sklearn-color-fitted-level-2);\n",
       "}\n",
       "\n",
       "#sk-container-id-1 div.sk-label label.sk-toggleable__label,\n",
       "#sk-container-id-1 div.sk-label label {\n",
       "  /* The background is the default theme color */\n",
       "  color: var(--sklearn-color-text-on-default-background);\n",
       "}\n",
       "\n",
       "/* On hover, darken the color of the background */\n",
       "#sk-container-id-1 div.sk-label:hover label.sk-toggleable__label {\n",
       "  color: var(--sklearn-color-text);\n",
       "  background-color: var(--sklearn-color-unfitted-level-2);\n",
       "}\n",
       "\n",
       "/* Label box, darken color on hover, fitted */\n",
       "#sk-container-id-1 div.sk-label.fitted:hover label.sk-toggleable__label.fitted {\n",
       "  color: var(--sklearn-color-text);\n",
       "  background-color: var(--sklearn-color-fitted-level-2);\n",
       "}\n",
       "\n",
       "/* Estimator label */\n",
       "\n",
       "#sk-container-id-1 div.sk-label label {\n",
       "  font-family: monospace;\n",
       "  font-weight: bold;\n",
       "  display: inline-block;\n",
       "  line-height: 1.2em;\n",
       "}\n",
       "\n",
       "#sk-container-id-1 div.sk-label-container {\n",
       "  text-align: center;\n",
       "}\n",
       "\n",
       "/* Estimator-specific */\n",
       "#sk-container-id-1 div.sk-estimator {\n",
       "  font-family: monospace;\n",
       "  border: 1px dotted var(--sklearn-color-border-box);\n",
       "  border-radius: 0.25em;\n",
       "  box-sizing: border-box;\n",
       "  margin-bottom: 0.5em;\n",
       "  /* unfitted */\n",
       "  background-color: var(--sklearn-color-unfitted-level-0);\n",
       "}\n",
       "\n",
       "#sk-container-id-1 div.sk-estimator.fitted {\n",
       "  /* fitted */\n",
       "  background-color: var(--sklearn-color-fitted-level-0);\n",
       "}\n",
       "\n",
       "/* on hover */\n",
       "#sk-container-id-1 div.sk-estimator:hover {\n",
       "  /* unfitted */\n",
       "  background-color: var(--sklearn-color-unfitted-level-2);\n",
       "}\n",
       "\n",
       "#sk-container-id-1 div.sk-estimator.fitted:hover {\n",
       "  /* fitted */\n",
       "  background-color: var(--sklearn-color-fitted-level-2);\n",
       "}\n",
       "\n",
       "/* Specification for estimator info (e.g. \"i\" and \"?\") */\n",
       "\n",
       "/* Common style for \"i\" and \"?\" */\n",
       "\n",
       ".sk-estimator-doc-link,\n",
       "a:link.sk-estimator-doc-link,\n",
       "a:visited.sk-estimator-doc-link {\n",
       "  float: right;\n",
       "  font-size: smaller;\n",
       "  line-height: 1em;\n",
       "  font-family: monospace;\n",
       "  background-color: var(--sklearn-color-background);\n",
       "  border-radius: 1em;\n",
       "  height: 1em;\n",
       "  width: 1em;\n",
       "  text-decoration: none !important;\n",
       "  margin-left: 1ex;\n",
       "  /* unfitted */\n",
       "  border: var(--sklearn-color-unfitted-level-1) 1pt solid;\n",
       "  color: var(--sklearn-color-unfitted-level-1);\n",
       "}\n",
       "\n",
       ".sk-estimator-doc-link.fitted,\n",
       "a:link.sk-estimator-doc-link.fitted,\n",
       "a:visited.sk-estimator-doc-link.fitted {\n",
       "  /* fitted */\n",
       "  border: var(--sklearn-color-fitted-level-1) 1pt solid;\n",
       "  color: var(--sklearn-color-fitted-level-1);\n",
       "}\n",
       "\n",
       "/* On hover */\n",
       "div.sk-estimator:hover .sk-estimator-doc-link:hover,\n",
       ".sk-estimator-doc-link:hover,\n",
       "div.sk-label-container:hover .sk-estimator-doc-link:hover,\n",
       ".sk-estimator-doc-link:hover {\n",
       "  /* unfitted */\n",
       "  background-color: var(--sklearn-color-unfitted-level-3);\n",
       "  color: var(--sklearn-color-background);\n",
       "  text-decoration: none;\n",
       "}\n",
       "\n",
       "div.sk-estimator.fitted:hover .sk-estimator-doc-link.fitted:hover,\n",
       ".sk-estimator-doc-link.fitted:hover,\n",
       "div.sk-label-container:hover .sk-estimator-doc-link.fitted:hover,\n",
       ".sk-estimator-doc-link.fitted:hover {\n",
       "  /* fitted */\n",
       "  background-color: var(--sklearn-color-fitted-level-3);\n",
       "  color: var(--sklearn-color-background);\n",
       "  text-decoration: none;\n",
       "}\n",
       "\n",
       "/* Span, style for the box shown on hovering the info icon */\n",
       ".sk-estimator-doc-link span {\n",
       "  display: none;\n",
       "  z-index: 9999;\n",
       "  position: relative;\n",
       "  font-weight: normal;\n",
       "  right: .2ex;\n",
       "  padding: .5ex;\n",
       "  margin: .5ex;\n",
       "  width: min-content;\n",
       "  min-width: 20ex;\n",
       "  max-width: 50ex;\n",
       "  color: var(--sklearn-color-text);\n",
       "  box-shadow: 2pt 2pt 4pt #999;\n",
       "  /* unfitted */\n",
       "  background: var(--sklearn-color-unfitted-level-0);\n",
       "  border: .5pt solid var(--sklearn-color-unfitted-level-3);\n",
       "}\n",
       "\n",
       ".sk-estimator-doc-link.fitted span {\n",
       "  /* fitted */\n",
       "  background: var(--sklearn-color-fitted-level-0);\n",
       "  border: var(--sklearn-color-fitted-level-3);\n",
       "}\n",
       "\n",
       ".sk-estimator-doc-link:hover span {\n",
       "  display: block;\n",
       "}\n",
       "\n",
       "/* \"?\"-specific style due to the `<a>` HTML tag */\n",
       "\n",
       "#sk-container-id-1 a.estimator_doc_link {\n",
       "  float: right;\n",
       "  font-size: 1rem;\n",
       "  line-height: 1em;\n",
       "  font-family: monospace;\n",
       "  background-color: var(--sklearn-color-background);\n",
       "  border-radius: 1rem;\n",
       "  height: 1rem;\n",
       "  width: 1rem;\n",
       "  text-decoration: none;\n",
       "  /* unfitted */\n",
       "  color: var(--sklearn-color-unfitted-level-1);\n",
       "  border: var(--sklearn-color-unfitted-level-1) 1pt solid;\n",
       "}\n",
       "\n",
       "#sk-container-id-1 a.estimator_doc_link.fitted {\n",
       "  /* fitted */\n",
       "  border: var(--sklearn-color-fitted-level-1) 1pt solid;\n",
       "  color: var(--sklearn-color-fitted-level-1);\n",
       "}\n",
       "\n",
       "/* On hover */\n",
       "#sk-container-id-1 a.estimator_doc_link:hover {\n",
       "  /* unfitted */\n",
       "  background-color: var(--sklearn-color-unfitted-level-3);\n",
       "  color: var(--sklearn-color-background);\n",
       "  text-decoration: none;\n",
       "}\n",
       "\n",
       "#sk-container-id-1 a.estimator_doc_link.fitted:hover {\n",
       "  /* fitted */\n",
       "  background-color: var(--sklearn-color-fitted-level-3);\n",
       "}\n",
       "</style><div id=\"sk-container-id-1\" class=\"sk-top-container\"><div class=\"sk-text-repr-fallback\"><pre>LogisticRegression(class_weight=&#x27;balanced&#x27;, max_iter=1000, random_state=42)</pre><b>In a Jupyter environment, please rerun this cell to show the HTML representation or trust the notebook. <br />On GitHub, the HTML representation is unable to render, please try loading this page with nbviewer.org.</b></div><div class=\"sk-container\" hidden><div class=\"sk-item\"><div class=\"sk-estimator fitted sk-toggleable\"><input class=\"sk-toggleable__control sk-hidden--visually\" id=\"sk-estimator-id-1\" type=\"checkbox\" checked><label for=\"sk-estimator-id-1\" class=\"sk-toggleable__label fitted sk-toggleable__label-arrow fitted\">&nbsp;&nbsp;LogisticRegression<a class=\"sk-estimator-doc-link fitted\" rel=\"noreferrer\" target=\"_blank\" href=\"https://scikit-learn.org/1.5/modules/generated/sklearn.linear_model.LogisticRegression.html\">?<span>Documentation for LogisticRegression</span></a><span class=\"sk-estimator-doc-link fitted\">i<span>Fitted</span></span></label><div class=\"sk-toggleable__content fitted\"><pre>LogisticRegression(class_weight=&#x27;balanced&#x27;, max_iter=1000, random_state=42)</pre></div> </div></div></div></div>"
      ],
      "text/plain": [
       "LogisticRegression(class_weight='balanced', max_iter=1000, random_state=42)"
      ]
     },
     "execution_count": 80,
     "metadata": {},
     "output_type": "execute_result"
    }
   ],
   "source": [
    "# Train the model\n",
    "lr = LogisticRegression(class_weight='balanced', random_state=42, max_iter=1000)\n",
    "\n",
    "# Fit on training data\n",
    "lr.fit(X_train, y_train)"
   ]
  },
  {
   "cell_type": "markdown",
   "metadata": {},
   "source": [
    "##### Predict on Test Data\n",
    "\n",
    "I’ll generate:\n",
    "1. `y_pred` – the churn/no-churn predictions  \n",
    "2. `y_proba_lr` – the model’s estimated probability of churn "
   ]
  },
  {
   "cell_type": "code",
   "execution_count": 81,
   "metadata": {},
   "outputs": [],
   "source": [
    "# Predict on test set\n",
    "y_pred = lr.predict(X_test)\n",
    "y_proba_lr = lr.predict_proba(X_test)[:, 1]"
   ]
  },
  {
   "cell_type": "markdown",
   "metadata": {},
   "source": [
    "#### Evaluate Performance"
   ]
  },
  {
   "cell_type": "markdown",
   "metadata": {},
   "source": [
    "I’ll compute recall, ROC-AUC, and display a confusion matrix to see where the model makes mistakes."
   ]
  },
  {
   "cell_type": "code",
   "execution_count": 82,
   "metadata": {},
   "outputs": [
    {
     "name": "stdout",
     "output_type": "stream",
     "text": [
      "Logistic Regression Recall: 0.70\n",
      "Logistic Regression ROC-AUC: 0.80\n"
     ]
    },
    {
     "data": {
      "image/png": "[encoded data removed]",
      "text/plain": [
       "<Figure size 640x480 with 2 Axes>"
      ]
     },
     "metadata": {},
     "output_type": "display_data"
    }
   ],
   "source": [
    "# Compute metrics\n",
    "rec = recall_score(y_test, y_pred)\n",
    "auc = roc_auc_score(y_test, y_proba_lr)\n",
    "print(f\"Logistic Regression Recall: {rec:.2f}\")\n",
    "print(f\"Logistic Regression ROC-AUC: {auc:.2f}\")\n",
    "\n",
    "# Confusion matrix\n",
    "cm = confusion_matrix(y_test, y_pred, normalize='true')\n",
    "disp = ConfusionMatrixDisplay(cm, display_labels=['Stayed','Churned'])\n",
    "disp.plot(cmap='Blues')\n",
    "plt.title(\"Logistic Regression Confusion Matrix\");\n",
    "plt.show()"
   ]
  },
  {
   "cell_type": "markdown",
   "metadata": {},
   "source": [
    "#### Interpretation of Logistic Regression\n",
    "\n",
    "- **Recall = 0.70**  \n",
    "  Of all customers who actually *churned*, the model correctly flagged 70% (True Positives), missing 30% (False Negatives) → **potential lost revenue**.\n",
    "- **ROC-AUC = 0.80**  \n",
    "  An 80% chance a randomly chosen churner scores higher than a randomly chosen stayer, indicating good overall separability.\n",
    "- **Confusion Matrix** (normalized by true label):  \n",
    "  |               | Predicted Stayed | Predicted Churned |\n",
    "  |--------------:|-----------------:|------------------:|\n",
    "  | **Stayed**    |            0.75  |             0.25  |  \n",
    "  | **Churned**   |            0.30  |             0.70  |\n",
    "\n",
    "  - **True Negatives (0.75)**: 75% of stayers correctly kept → no action needed  \n",
    "  - **False Positives (0.25)**: 25% of stayers incorrectly targeted → *wasted retention spend*  \n",
    "  - **False Negatives (0.30)**: 30% of churners missed → *opportunity for improved retention*  \n",
    "  - **True Positives (0.70)**: 70% of churners correctly identified → *actionable for targeted offers*\n",
    "\n",
    "**Key takeaway:**  \n",
    "While the baseline model captures most churners (70%), it still misses 30% and generates a 25% false-alarm rate. For a business facing high retention costs, we should next explore models (e.g., Random Forest) or threshold tuning to boost recall further while controlling false positives.\n"
   ]
  },
  {
   "cell_type": "markdown",
   "metadata": {},
   "source": [
    "##### Classification Report (Precision, Recall, F1, Support)\n",
    "\n",
    "I’ll generate a full report showing, for each class (Stayed vs. Churned):\n",
    "\n",
    "- **Precision**: of all predicted churners, how many actually churned  \n",
    "- **Recall**: of all true churners, how many we caught  \n",
    "- **F1-Score**: the balance between precision & recall  \n",
    "- **Support**: the number of true instances of each class in the test set"
   ]
  },
  {
   "cell_type": "code",
   "execution_count": 83,
   "metadata": {},
   "outputs": [
    {
     "name": "stdout",
     "output_type": "stream",
     "text": [
      "              precision    recall  f1-score   support\n",
      "\n",
      "  Stayed (0)       0.94      0.75      0.83       570\n",
      " Churned (1)       0.33      0.70      0.44        97\n",
      "\n",
      "    accuracy                           0.75       667\n",
      "   macro avg       0.63      0.73      0.64       667\n",
      "weighted avg       0.85      0.75      0.78       667\n",
      "\n"
     ]
    }
   ],
   "source": [
    "# Print classification report\n",
    "print(classification_report( y_test, y_pred,target_names=['Stayed (0)','Churned (1)']))"
   ]
  },
  {
   "cell_type": "markdown",
   "metadata": {},
   "source": [
    "##### Interpretation of Classification Report\n",
    "\n",
    "- **Stayed (0)**  \n",
    "  - *Precision* 0.94: Of all customers predicted to stay, 94% truly did → very few false alarms.  \n",
    "  - *Recall* 0.75: Catches 75% of actual stayers.  \n",
    "  - *F1-Score* 0.83: Strong performance on the majority class.\n",
    "\n",
    "- **Churned (1)**  \n",
    "  - *Precision* 0.33: Only 33% of predicted churners actually churned → many false positives (costly outreach).  \n",
    "  - *Recall* 0.70: Identifies 70% of true churners (good, but misses 30%).  \n",
    "  - *F1-Score* 0.44: Reflects trade-off between low precision and moderate recall.\n",
    "\n",
    "- **Overall Accuracy** 0.75: 75% of all predictions correct.\n",
    "\n",
    "**Key takeaway:**  \n",
    "\n",
    "The baseline model (class_weight='balanced') reliably flags 70 % of churners but incurs a high false‑positive rate (precision 33 %). To improve, I’ll next:\n",
    "1. Validate recall stability with 5‑fold CV  \n",
    "2. Rank and visualize top feature drivers  \n",
    "3. Tune the decision threshold by 0.4"
   ]
  },
  {
   "cell_type": "markdown",
   "metadata": {},
   "source": [
    "> **Note on the precision / recall trade-off:**  \n",
    "> In the Logistic Regression I set `class_weight='balanced'` to penalize mistakes on churners more heavily.  \n",
    "> As a result:\n",
    "> - **Recall** increased (we catch more of the 14.5% of customers who actually churn)  \n",
    "> - **Precision** dropped (we also flag more false positives)  \n",
    ">\n",
    "> This trade-off is intentional: for SyriaTel, missing a churner (false negative) is costlier than bothering a stayer (false positive)."
   ]
  },
  {
   "cell_type": "markdown",
   "metadata": {},
   "source": [
    "## 5.1.1 Model Enhancement\n",
    "\n",
    "I’ll build on the baseline by adding three steps to validate, interpret, and tune our Logistic Regression:\n",
    "\n",
    "1. **Cross‑Validation Recall Stability**  \n",
    "   I’ll run 5‑fold stratified CV on the full dataset to check if we consistently catch ~70 % of churners.\n",
    "\n",
    "2. **Feature Coefficients**  \n",
    "   I’ll fit the model on the training set, then rank the top 5 positive (↑ churn odds) and top 5 negative (↓ churn odds) coefficients to explain **why** certain customers are flagged.\n",
    "\n",
    "3. **Threshold Tuning**  \n",
    "   I’ll lower the decision threshold from 0.5 to 0.4 to see how recall and precision trade off in practice."
   ]
  },
  {
   "cell_type": "code",
   "execution_count": 84,
   "metadata": {},
   "outputs": [
    {
     "name": "stdout",
     "output_type": "stream",
     "text": [
      "CV Recall scores: [0.69072165 0.67010309 0.70103093 0.77083333 0.76041667]\n",
      "Mean CV Recall: 0.72\n",
      "Top drivers of churn:\n",
      " state_CA                  1.307417\n",
      "state_MT                  1.189608\n",
      "state_SC                  0.924264\n",
      "customer_service_calls    0.840184\n",
      "international_plan        0.731185\n",
      "dtype: float64\n",
      "\n",
      "Top drivers of retention:\n",
      " state_HI          -1.431909\n",
      "state_VA          -1.086225\n",
      "voice_mail_plan   -1.029974\n",
      "state_VT          -0.944935\n",
      "state_TN          -0.737333\n",
      "dtype: float64\n",
      "\n",
      "Recall at 0.4: 0.78\n",
      "Precision at 0.4: 0.28\n"
     ]
    }
   ],
   "source": [
    "# Cross‑Validation Recall Check\n",
    "lr = LogisticRegression(class_weight='balanced', random_state=42, max_iter=1000)\n",
    "recall_scores = cross_val_score(lr, X, y, cv=5, scoring='recall')\n",
    "print(\"CV Recall scores:\", recall_scores)\n",
    "print(\"Mean CV Recall: {:.2f}\".format(recall_scores.mean()))\n",
    "\n",
    "# Inspect Feature Coefficients\n",
    "lr.fit(X_train, y_train)\n",
    "coef = pd.Series(lr.coef_[0], index=X_train.columns)\n",
    "print(\"Top drivers of churn:\\n\", coef.nlargest(5))\n",
    "print(\"\\nTop drivers of retention:\\n\", coef.nsmallest(5))\n",
    "\n",
    "# Threshold Tuning\n",
    "y_proba_lr = lr.predict_proba(X_test)[:, 1]\n",
    "threshold = 0.4\n",
    "y_pred_adj = (y_proba_lr >= threshold).astype(int)\n",
    "\n",
    "print(f\"\\nRecall at {threshold}: {recall_score(y_test, y_pred_adj):.2f}\")\n",
    "print(f\"Precision at {threshold}: {precision_score(y_test, y_pred_adj):.2f}\")"
   ]
  },
  {
   "cell_type": "markdown",
   "metadata": {},
   "source": [
    "## Results Interpretation\n",
    "\n",
    "1. **Cross‑Validation Recall**  \n",
    "   - Fold recalls: [0.69, 0.67, 0.70, 0.77, 0.76]  \n",
    "   - **Mean recall ≈ 0.72**, which shows our model consistently catches about 72 % of churners across different splits.\n",
    "\n",
    "2. **Feature Coefficients**  \n",
    "   - **Top drivers of churn** (highest positive coefficients):  \n",
    "     - `state_CA` (1.31), `state_MT` (1.19), `state_SC` (0.92), `customer_service_calls` (0.84), `international_plan` (0.73)  \n",
    "   - **Top drivers of retention** (most negative coefficients):  \n",
    "     - `state_HI` (−1.43), `state_VA` (−1.09), `voice_mail_plan` (−1.03), `state_VT` (−0.94), `state_TN` (−0.74)  \n",
    "   These tell us which states and service features most influence churn risk.\n",
    "\n",
    "3. **Threshold Tuning (0.4 cutoff)**  \n",
    "   - **Recall:** 0.78  (+0.06 vs. 0.72 at 0.5 threshold)  \n",
    "   - **Precision:** 0.28  (−0.05 vs. 0.33 at 0.5 threshold)  \n",
    "   Lowering the cutoff from 0.5 to 0.4 catches more churners but also increases false alarms.\n",
    "\n",
    "**Key Takeaway:**  \n",
    "Our baseline remains stable (~72 % recall) and highlights clear feature drivers. Adjusting the threshold to 0.4 improves recall to 78 % at the cost of more false positives. Next, I can decide on an optimal threshold based on SyriaTel’s cost matrix or proceed to L1/L2 regularization to shrink noisy coefficients and improve generalization."
   ]
  },
  {
   "cell_type": "markdown",
   "metadata": {},
   "source": [
    "#### Baseline Visualizations\n",
    "\n",
    "I’ll add three charts to inspect our baseline before regularization:\n",
    "\n",
    "1. **ROC & Precision‑Recall Curves**  \n",
    "   - Show how well the model separates churn vs. stay across all thresholds.  \n",
    "   - Highlight the area under each curve (AUC).\n",
    "\n",
    "2. **Coefficient Importance Plot**  \n",
    "   - Horizontal bar chart of the top 5 positive and top 5 negative coefficients.  \n",
    "   - Makes it easy to spot which features most drive churn or retention."
   ]
  },
  {
   "cell_type": "code",
   "execution_count": 85,
   "metadata": {},
   "outputs": [
    {
     "data": {
      "image/png": "[encoded data removed]",
      "text/plain": [
       "<Figure size 1800x500 with 3 Axes>"
      ]
     },
     "metadata": {},
     "output_type": "display_data"
    }
   ],
   "source": [
    "fig, axes = plt.subplots(1, 3, figsize=(18, 5))\n",
    "fig.suptitle(\"Baseline Model Performance & Feature Importance\", fontsize=16)\n",
    "\n",
    "# Plot ROC curve\n",
    "RocCurveDisplay.from_estimator(lr, X_test, y_test, ax=axes[0])\n",
    "axes[0].set_title(\"ROC Curve\")\n",
    "axes[0].set_xlabel(\"False Positive Rate\")\n",
    "axes[0].set_ylabel(\"True Positive Rate\")\n",
    "\n",
    "#ploting Precision‑Recall curve\n",
    "PrecisionRecallDisplay.from_estimator(lr, X_test, y_test, ax=axes[1])\n",
    "axes[1].set_title(\"Precision-Recall Curve\")\n",
    "axes[1].set_xlabel(\"Recall\")\n",
    "axes[1].set_ylabel(\"Precision\")\n",
    "\n",
    "# Coefficient importance plot\n",
    "coef = pd.Series(lr.coef_[0], index=X_train.columns).sort_values()\n",
    "top = pd.concat([coef.head(5), coef.tail(5)])\n",
    "top.plot(kind=\"barh\", ax=axes[2])\n",
    "axes[2].set_title(\"Top 5 ↑ / Top 5 ↓ Coefficients\")\n",
    "axes[2].set_xlabel(\"Coefficient Value\")\n",
    "axes[2].set_ylabel(\"Feature\")\n",
    "\n",
    "plt.tight_layout(rect=[0, 0, 1, 0.95]) \n",
    "\n",
    "plt.show()"
   ]
  },
  {
   "cell_type": "markdown",
   "metadata": {},
   "source": [
    "## 5.1.2 Regularized Logistic Regression (L1 & L2)\n",
    "\n",
    "#### L1 Regularized Logistic Regression (Lasso)\n",
    "\n",
    "A Lasso (L1) penalty can zero out weaker feature weights, giving us a sparser model and built in feature selection. I’ll tune the regularization strength `C` via 5-fold CV again optimizing for recall on churn."
   ]
  },
  {
   "cell_type": "code",
   "execution_count": 88,
   "metadata": {},
   "outputs": [
    {
     "name": "stdout",
     "output_type": "stream",
     "text": [
      "Best C: 0.1\n"
     ]
    }
   ],
   "source": [
    "# Instantiate & tune LASSO\n",
    "lasso_cv = LogisticRegressionCV(\n",
    "    Cs=[0.01, 0.1, 1, 10],\n",
    "    penalty='l1',\n",
    "    solver='saga',         \n",
    "    scoring='recall',\n",
    "    cv=5,\n",
    "    class_weight='balanced',\n",
    "    random_state=42,\n",
    "    max_iter=2000,\n",
    "    refit=True\n",
    ")\n",
    "\n",
    "lasso_cv.fit(X_train, y_train)\n",
    "print(\"Best C:\", lasso_cv.C_[0])"
   ]
  },
  {
   "cell_type": "markdown",
   "metadata": {},
   "source": [
    "##### Evaluate L1 Logistic on Test Set\n",
    "\n",
    "Now I will predict and report recall, precision, F1, and ROC-AUC for the tuned Lasso model"
   ]
  },
  {
   "cell_type": "code",
   "execution_count": 89,
   "metadata": {},
   "outputs": [
    {
     "name": "stdout",
     "output_type": "stream",
     "text": [
      "L1-Logistic ROC-AUC: 0.82\n",
      "              precision    recall  f1-score   support\n",
      "\n",
      "  Stayed (0)       0.95      0.76      0.85       570\n",
      " Churned (1)       0.35      0.74      0.48        97\n",
      "\n",
      "    accuracy                           0.76       667\n",
      "   macro avg       0.65      0.75      0.66       667\n",
      "weighted avg       0.86      0.76      0.79       667\n",
      "\n"
     ]
    }
   ],
   "source": [
    "# Predict & evaluate\n",
    "y_pred_l1  = lasso_cv.predict(X_test)\n",
    "y_proba_l1 = lasso_cv.predict_proba(X_test)[:, 1]\n",
    "\n",
    "print(\"L1-Logistic ROC-AUC:\", roc_auc_score(y_test, y_proba_l1).round(2))\n",
    "print(classification_report(y_test, y_pred_l1, target_names=['Stayed (0)','Churned (1)']))"
   ]
  },
  {
   "cell_type": "markdown",
   "metadata": {},
   "source": [
    "#### Interpretation of LASSO\n",
    "\n",
    "- **Interpretation of LASSO (L1 Logistic Regression)**\n",
    "\n",
    "- **Stayed (0)**  \n",
    "  - **Precision = 0.95**: Of all customers our Lasso model predicted would stay, 95% actually did very few false “stay” alarms.  \n",
    "  - **Recall = 0.76**: We correctly identify 76% of all actual stayers.  \n",
    "  - **F1-Score = 0.85**: A strong balance for the majority class.  \n",
    "  - **Support = 570**: There are 570 stayers in our test set.  \n",
    "\n",
    "- **Churned (1)**  \n",
    "  - **Precision = 0.35**: Only 35% of customers flagged as churners truly churned;still a high false alarm rate.  \n",
    "  - **Recall = 0.74**: We catch 74% of all true churners (miss 26%).  \n",
    "  - **F1-Score = 0.48**: Nearly identical to the unregularized logistic’s F1 (0.44), indicating L1 didn’t meaningfully improve churn detection.  \n",
    "  - **Support = 97**: There are 97 churners in our test set.  \n",
    "\n",
    "- **Overall**  \n",
    "  - **ROC-AUC = 0.82**: Almost matches the unregularized logistic’s ability to rank churners vs. stayers.  \n",
    "  - **Accuracy = 0.76**  \n",
    "  - **Macro F1 = 0.66**  \n",
    "\n",
    "**Key takeaway:**  \n",
    "- **L1-Logistic (Lasso)** (C = 0.1) sparsified over **50%** of coefficient weights, but **precision** (0.35) and **recall** (0.74) on churn stayed essentially the same as the unpenalized model.\n",
    "- **ROC-AUC** held at ~0.82 and overall accuracy at ~0.76—no clear lift from L1 alone.\n",
    "- This tells us that zeroing out weak features didn’t boost separability or reduce false alarms.\n",
    "- **Next step:** apply an **L2 penalty (Ridge)** to **shrink** rather than eliminate coefficients as this often handles multicollinearity better and can improve overall generalization without aggressively zeroing weights.\n",
    "- I’ll tune Ridge’s regularization strength (C) via 5-fold CV (again optimizing for recall on churn) and compare its recall, precision, F1-score, and ROC-AUC to L1 and the baseline."
   ]
  },
  {
   "cell_type": "markdown",
   "metadata": {},
   "source": [
    "#### L2-Regularized Logistic Regression (Ridge)\n",
    "\n",
    "A Ridge penalty (L2) shrinks coefficients without dropping them. I’ll use `LogisticRegressionCV` to tune its strength and optimize for recall on churn."
   ]
  },
  {
   "cell_type": "code",
   "execution_count": 90,
   "metadata": {},
   "outputs": [
    {
     "name": "stdout",
     "output_type": "stream",
     "text": [
      "Best C for Ridge: 0.01\n"
     ]
    }
   ],
   "source": [
    "# Instantiate & tune Ridge\n",
    "ridge_cv = LogisticRegressionCV(\n",
    "    Cs=[0.01, 0.1, 1, 10],\n",
    "    penalty='l2',\n",
    "    solver='lbfgs',\n",
    "    scoring='recall',\n",
    "    cv=5,\n",
    "    class_weight='balanced',\n",
    "    random_state=42,\n",
    "    max_iter=2000,\n",
    "    refit=True\n",
    ")\n",
    "ridge_cv.fit(X_train, y_train)\n",
    "\n",
    "print(\"Best C for Ridge:\", ridge_cv.C_[0])"
   ]
  },
  {
   "cell_type": "markdown",
   "metadata": {},
   "source": [
    "##### Evaluate Ridge Logistic on Test Set\n",
    "\n",
    "Now I'll see how its churn recall, precision, F1 and ROC-AUC compare."
   ]
  },
  {
   "cell_type": "code",
   "execution_count": 91,
   "metadata": {},
   "outputs": [
    {
     "name": "stdout",
     "output_type": "stream",
     "text": [
      "Ridge Logistic ROC-AUC: 0.82\n",
      "              precision    recall  f1-score   support\n",
      "\n",
      "  Stayed (0)       0.95      0.76      0.85       570\n",
      " Churned (1)       0.35      0.75      0.48        97\n",
      "\n",
      "    accuracy                           0.76       667\n",
      "   macro avg       0.65      0.76      0.66       667\n",
      "weighted avg       0.86      0.76      0.79       667\n",
      "\n"
     ]
    }
   ],
   "source": [
    "y_pred_r2  = ridge_cv.predict(X_test)\n",
    "y_proba_r2 = ridge_cv.predict_proba(X_test)[:,1]\n",
    "\n",
    "print(\"Ridge Logistic ROC-AUC:\", roc_auc_score(y_test, y_proba_r2).round(2))\n",
    "print(classification_report(y_test, y_pred_r2, target_names=['Stayed (0)','Churned (1)']))"
   ]
  },
  {
   "cell_type": "markdown",
   "metadata": {},
   "source": [
    "##### Interpretation of Ridge (L2) Logistic Regression\n",
    "- **Stayed (0)**  \n",
    "  - **Precision = 0.95**: Unchanged from L1—still very few false positives.  \n",
    "  - **Recall = 0.76**: Matches L1’s recall, slightly above the plain (unregularized) 0.75.  \n",
    "  - **F1‐Score = 0.85**: Same as L1 and a touch above the unregularized 0.83.  \n",
    "  - **Support = 570**  \n",
    "\n",
    "- **Churned (1)**  \n",
    "  - **Precision = 0.35**: Up marginally from L1’s 0.35 (virtually unchanged) and above the plain logistic’s 0.32.  \n",
    "  - **Recall = 0.75**: Improves on L1’s 0.74 and plain logistic’s 0.70—our best catch rate so far.  \n",
    "  - **F1‐Score = 0.48**: Slight uptick from L1’s 0.48 (and plain logistic’s 0.44).  \n",
    "  - **Support = 97**  \n",
    "\n",
    "- **Overall**  \n",
    "  - **ROC‐AUC = 0.82**: Bumps above the plain logistic (0.80).  \n",
    "  - **Accuracy = 0.76**  \n",
    "  - **Macro F1 = 0.66**  \n",
    "\n",
    "**Key takeaway:**  \n",
    "Ridge (L2) regularization delivers almost identical precision but a small lift in recall and ROC‐AUC over both L1 and unregularized logistic. It confirms that we’ve squeezed as much as we can from a linear model next up, a non‐linear ensemble (Random Forest or Gradient Boosting) to really boost churn detection."
   ]
  },
  {
   "cell_type": "markdown",
   "metadata": {},
   "source": [
    "### 5.2 Random Forest Classifier\n",
    "\n",
    "I’ll fit a Random Forest (100 trees, max depth 10) on the same split and compare its precision, recall, F1-score, support and ROC-AUC for churn."
   ]
  },
  {
   "cell_type": "code",
   "execution_count": 92,
   "metadata": {},
   "outputs": [
    {
     "name": "stdout",
     "output_type": "stream",
     "text": [
      "Random Forest ROC-AUC: 0.89\n",
      "              precision    recall  f1-score   support\n",
      "\n",
      "  Stayed (0)       0.94      0.96      0.95       570\n",
      " Churned (1)       0.73      0.64      0.68        97\n",
      "\n",
      "    accuracy                           0.91       667\n",
      "   macro avg       0.83      0.80      0.82       667\n",
      "weighted avg       0.91      0.91      0.91       667\n",
      "\n"
     ]
    }
   ],
   "source": [
    "# Instantiate & train\n",
    "rf = RandomForestClassifier(n_estimators=100,max_depth=10,class_weight='balanced', random_state=42)\n",
    "rf.fit(X_train, y_train)\n",
    "\n",
    "# Predict & evaluate\n",
    "y_pred_rf  = rf.predict(X_test)\n",
    "y_proba_rf = rf.predict_proba(X_test)[:, 1]\n",
    "\n",
    "print(\"Random Forest ROC-AUC:\", roc_auc_score(y_test, y_proba_rf).round(2))\n",
    "print(classification_report(y_test, y_pred_rf, target_names=['Stayed (0)', 'Churned (1)']))"
   ]
  },
  {
   "cell_type": "markdown",
   "metadata": {},
   "source": [
    "##### Interpretation of Random Forest Results\n",
    "\n",
    "- **Stayed (0)**  \n",
    "  - **Precision = 0.94**: Of all customers predicted to stay, 94 % actually did → very few false alarms.  \n",
    "  - **Recall = 0.96**: The model correctly catches 96 % of all actual stayers.  \n",
    "  - **F1-Score = 0.95**: Excellent balance on the majority class.  \n",
    "  - **Support = 570**  \n",
    "\n",
    "- **Churned (1)**  \n",
    "  - **Precision = 0.73**: 73 % of predicted churners truly churned which is  a large jump over logistic’s 35 %.  \n",
    "  - **Recall = 0.64**: We identify 64 % of all churners (slightly lower than logistic’s 70 %, but still strong).  \n",
    "  - **F1-Score = 0.68**: Solid precision/recall balance (versus 0.44 in plain logistic).  \n",
    "  - **Support = 97**  \n",
    "\n",
    "- **Overall**  \n",
    "  - **ROC-AUC = 0.89**: Strong separation between churners and stayers.  \n",
    "  - **Accuracy = 0.91**  \n",
    "  - **Macro F1 = 0.82**  \n",
    "\n",
    "**Key takeaway:**  \n",
    "Random Forest markedly improves churn precision (0.73 vs. 0.35) and overall AUC (0.89 vs. 0.80) at a small cost in recall (0.64 vs. 0.70). For SyriaTel, where false alarms (costly outreach) are tolerable compared to missed churners, this trade-off is desirable."
   ]
  },
  {
   "cell_type": "markdown",
   "metadata": {},
   "source": [
    "5.2.1 Random Forest Feature Importance\n",
    "\n",
    "Here are the top 5 features the Random Forest model used to predict churn. A higher “importance” means the model found that feature more useful when splitting trees."
   ]
  },
  {
   "cell_type": "code",
   "execution_count": 93,
   "metadata": {},
   "outputs": [
    {
     "data": {
      "image/png": "[encoded data removed]",
      "text/plain": [
       "<Figure size 600x400 with 1 Axes>"
      ]
     },
     "metadata": {},
     "output_type": "display_data"
    }
   ],
   "source": [
    "# Compute feature importances\n",
    "rf_importances = pd.Series(rf.feature_importances_,index=X_train.columns).sort_values(ascending=False)\n",
    "\n",
    "# Plot top 5\n",
    "top5 = rf_importances.iloc[:5]\n",
    "plt.figure(figsize=(6,4))\n",
    "top5.plot.barh()\n",
    "plt.gca().invert_yaxis()   # largest on top\n",
    "plt.xlabel(\"Relative Importance\", fontsize=12)\n",
    "plt.title(\"Top 5 Random Forest Features\", fontsize=14, weight=\"bold\")\n",
    "plt.tight_layout()\n",
    "plt.savefig(\"Images/rf_top5_features.png\", dpi=300)\n",
    "plt.show()"
   ]
  },
  {
   "cell_type": "markdown",
   "metadata": {},
   "source": [
    "> **Observation:**  \n",
    "Here are the five most important predictors the Random Forest uses to flag churn (larger values → more splits involve that feature):\n",
    "\n",
    "| Feature                   | Importance |\n",
    "|---------------------------|-----------:|\n",
    "| **total_day_charge**      |  ~16 %     |\n",
    "| **customer_service_calls**|  ~14 %     |\n",
    "| **total_day_minutes**     |  ~13 %     |\n",
    "| **international_plan**    |   ~9 %     |\n",
    "| **total_eve_minutes**     |   ~5 %     |\n",
    "\n",
    "**Key takeaways:**\n",
    "- **Day charges** (~16 %) are the strongest churn signal customers with suddenly high bills tend to leave.  \n",
    "- **Support calls** (~14 %) come next, frequent help requests predict attrition.  \n",
    "- **Usage minutes** (day ~13 %, eve ~5 %) show both over- and under-utilization matter.  \n",
    "- **International plan** (~9 %) flags price sensitivity and higher churn risk.\n",
    "\n",
    "> **Action items:**  \n",
    "> 1. Trigger alerts when a customer’s day charge spikes above their personal average.  \n",
    "> 2. Fast track support tickets for heavy call customers to reduce churn.  "
   ]
  },
  {
   "cell_type": "markdown",
   "metadata": {},
   "source": [
    "### 5.3 Gradient Boosting Classifier\n",
    "\n",
    "I’ll try a Gradient Boosting model using `HistGradientBoostingClassifier` to see if I can regain some recall on churners while maintaining high precision and AUC."
   ]
  },
  {
   "cell_type": "code",
   "execution_count": 94,
   "metadata": {},
   "outputs": [
    {
     "name": "stdout",
     "output_type": "stream",
     "text": [
      "Gradient Boosting ROC-AUC: 0.9\n",
      "              precision    recall  f1-score   support\n",
      "\n",
      "  Stayed (0)       0.96      0.97      0.96       570\n",
      " Churned (1)       0.80      0.78      0.79        97\n",
      "\n",
      "    accuracy                           0.94       667\n",
      "   macro avg       0.88      0.88      0.88       667\n",
      "weighted avg       0.94      0.94      0.94       667\n",
      "\n"
     ]
    }
   ],
   "source": [
    "# Instantiate & train\n",
    "gb = HistGradientBoostingClassifier(max_iter=200,max_depth=5,class_weight='balanced',random_state=42)\n",
    "gb.fit(X_train, y_train)\n",
    "\n",
    "# predict & evaluate\n",
    "y_pred_gb  = gb.predict(X_test)\n",
    "y_proba_gb = gb.predict_proba(X_test)[:, 1]\n",
    "\n",
    "print(\"Gradient Boosting ROC-AUC:\", roc_auc_score(y_test, y_proba_gb).round(2))\n",
    "print(classification_report(y_test, y_pred_gb, target_names=['Stayed (0)', 'Churned (1)']))"
   ]
  },
  {
   "cell_type": "markdown",
   "metadata": {},
   "source": [
    "##### Interpretation of Gradient Boosting Results\n",
    "\n",
    "- **Stayed (0)**  \n",
    "  - Precision = 0.96: 96% of customers predicted to stay actually stayed.  \n",
    "  - Recall = 0.97: The model correctly identifies 97% of all actual stayers.  \n",
    "  - F1-score = 0.96  \n",
    "  - Support = 570  \n",
    "\n",
    "- **Churned (1)**  \n",
    "  - Precision = 0.80: 80% of customers flagged as churners truly churned (up from 0.73 with Random Forest).  \n",
    "  - Recall = 0.78: We catch 78% of all churners (up from 0.64 with RF and 0.70 with LR).  \n",
    "  - F1-score = 0.79: A strong balance, highest so far.  \n",
    "  - Support = 97  \n",
    "\n",
    "- **Overall**  \n",
    "  - ROC-AUC = 0.90  \n",
    "  - Accuracy = 0.94  \n",
    "  - Macro F1 = 0.88  \n",
    "\n",
    "**Key takeaway:**  \n",
    "Gradient Boosting gives us the best performance on the churn class:  \n",
    "- **Recall = 78%** (only 22% of churners missed),  \n",
    "- **Precision = 80%** (only 20% false alarms),  \n",
    "- **F1 = 0.79**,  \n",
    "- **ROC-AUC = 0.90**."
   ]
  },
  {
   "cell_type": "markdown",
   "metadata": {},
   "source": [
    "5.3.1 Gradient Boosting Classifier Feature Importance\n",
    "\n",
    "Here are the top 5 features theGradient Boosting Classifier model used to predict churn. A higher “importance” means the model found that feature more useful when splitting trees."
   ]
  },
  {
   "cell_type": "code",
   "execution_count": 95,
   "metadata": {},
   "outputs": [
    {
     "data": {
      "image/png": "[encoded data removed]",
      "text/plain": [
       "<Figure size 600x400 with 1 Axes>"
      ]
     },
     "metadata": {},
     "output_type": "display_data"
    }
   ],
   "source": [
    "# Compute permutation importances on the test set\n",
    "perm = permutation_importance(gb, X_test, y_test, n_repeats=10, random_state=42, scoring=\"roc_auc\")\n",
    "\n",
    "# build a Series, sort descending\n",
    "perm_imp = pd.Series(perm.importances_mean, index=X_test.columns)\n",
    "top5 = perm_imp.sort_values(ascending=False).iloc[:5]\n",
    "\n",
    "# plot with seaborn\n",
    "plt.figure(figsize=(6,4))\n",
    "sns.barplot(x=top5.values, y=top5.index,  palette=\"Blues\")\n",
    "plt.xlabel(\"Permutation Importance (mean decrease in AUC)\")\n",
    "plt.title(\"Top 5 Features by Permutation Importance (Gradient Boosting)\");\n",
    "plt.tight_layout()\n",
    "plt.savefig(\"Images/GB_permutation_importance.png\", dpi=300)\n",
    "plt.show()"
   ]
  },
  {
   "cell_type": "markdown",
   "metadata": {},
   "source": [
    "**Observation (Permutation Importance, Gradient Boosting):**\n",
    "\n",
    "- **total_day_minutes** has the largest impact: shuffling daytime usage reduces AUC by ~0.15, so how much customers talk during the day is our single strongest churn signal.  \n",
    "- **international_plan** is second most important (∆AUC ≈ 0.12), indicating that being on an international plan meaningfully shifts churn probability.  \n",
    "- **customer_service_calls** ranks third (∆AUC ≈ 0.11), confirming frequent support interactions are a churn warning.  \n",
    "- **total_intl_minutes** is fourth (∆AUC ≈ 0.07): the number of minutes spent on international calls carries predictive power beyond just having a plan.  \n",
    "- **total_intl_calls** is fifth (∆AUC ≈ 0.06), showing even the count of international calls adds incremental value.\n",
    "\n",
    "These results tell SyriaTel to monitor **daytime usage** most closely, but also flag **international‐plan subscribers**, heavy **support callers**, and **international‐calling** behavior as early churn indicators."
   ]
  },
  {
   "cell_type": "markdown",
   "metadata": {},
   "source": [
    "### 5.4 Decision Tree Classifier\n",
    "\n",
    "I’ll train a shallow decision tree (max depth = 5) to see how a simple, interpretable model performs on churn detection.\n",
    "\n",
    "- **max_depth=5**: limits tree height to prevent crazily overfitting.\n",
    "- **class_weight='balanced'**: tells the tree to pay extra attention to the minority class (churners).\n",
    "\n",
    "I'll fit it and evaluate recall, precision, F1-score, and ROC-AUC on the test set."
   ]
  },
  {
   "cell_type": "code",
   "execution_count": 96,
   "metadata": {},
   "outputs": [
    {
     "name": "stdout",
     "output_type": "stream",
     "text": [
      "Decision Tree ROC-AUC: 0.80\n",
      "\n",
      "              precision    recall  f1-score   support\n",
      "\n",
      "  Stayed (0)       0.95      0.94      0.94       570\n",
      " Churned (1)       0.66      0.72      0.69        97\n",
      "\n",
      "    accuracy                           0.91       667\n",
      "   macro avg       0.81      0.83      0.82       667\n",
      "weighted avg       0.91      0.91      0.91       667\n",
      "\n"
     ]
    }
   ],
   "source": [
    "# Instantiate a shallow tree\n",
    "dt = DecisionTreeClassifier(max_depth=5, class_weight='balanced', random_state=42)\n",
    "\n",
    "# Train on the training split\n",
    "dt.fit(X_train, y_train)\n",
    "\n",
    "# Predict on the test split\n",
    "y_pred_dt  = dt.predict(X_test)\n",
    "y_proba_dt = dt.predict_proba(X_test)[:, 1]\n",
    "\n",
    "# Compute overall ROC-AUC and detailed report\n",
    "dt_auc = roc_auc_score(y_test, y_proba_dt)\n",
    "print(f\"Decision Tree ROC-AUC: {dt_auc:.2f}\\n\")\n",
    "print(classification_report(\n",
    "    y_test,\n",
    "    y_pred_dt,\n",
    "    target_names=['Stayed (0)', 'Churned (1)']\n",
    "))"
   ]
  },
  {
   "cell_type": "markdown",
   "metadata": {},
   "source": [
    "##### Interpretation of Baseline Decision Tree\n",
    "\n",
    "- **Stayed (0)**  \n",
    "  - **Precision = 0.95**: Of all customers the tree predicted would stay, 95% actually stayed very few false “stay” alarms.  \n",
    "  - **Recall = 0.94**: We correctly identify 94% of the true stayers.  \n",
    "  - **F1-score = 0.94**: Excellent balance for the majority class.  \n",
    "\n",
    "- **Churned (1)**  \n",
    "  - **Precision = 0.66**: 66% of those flagged as churners actually left—better than logistic but still room to reduce false positives.  \n",
    "  - **Recall = 0.72**: We catch 72% of all true churners (up from 70% with plain logistic).  \n",
    "  - **F1-score = 0.69**: A solid overall balance for the minority class.\n",
    "\n",
    "- **Overall**  \n",
    "  - **ROC-AUC = 0.80**: Slightly below Ridge’s 0.81, indicating the tree is competitive but not quite best at ranking.  \n",
    "  - **Accuracy = 0.91**  \n",
    "  - **Macro F1 = 0.82**\n",
    "\n",
    "**Key takeaway:**  \n",
    "The shallow tree is more flexible than logistic models it improved churn precision (0.66 vs ~0.34) and recall (0.72 vs ~0.72) while keeping a high stay class performance. However, its ROC‐AUC dipped slightly. Next, I’ll tune `max_depth` and `min_samples_leaf` to see if I can lift its ranking ability without overfitting. "
   ]
  },
  {
   "cell_type": "markdown",
   "metadata": {},
   "source": [
    "### 5.5 Hyperparameter Tuning (Decision Tree)\n",
    "\n",
    "I’ll use a small grid search over:\n",
    "\n",
    "- **max_depth**: how many splits deep (try 3, 5, 7, 10)  \n",
    "- **min_samples_leaf**: minimum samples required to make a leaf node (try 5, 10, 20)  \n",
    "\n",
    "I’ll optimize for **recall** on the churn class (`scoring='recall'`) with 5 fold CV and balanced class weights."
   ]
  },
  {
   "cell_type": "code",
   "execution_count": 97,
   "metadata": {},
   "outputs": [
    {
     "name": "stdout",
     "output_type": "stream",
     "text": [
      "Best parameters: {'max_depth': 7, 'min_samples_leaf': 5}\n",
      "Best CV recall (churn): 0.81\n"
     ]
    }
   ],
   "source": [
    "# Define the parameter grid\n",
    "param_grid = {\n",
    "    \"max_depth\": [3, 5, 7, 10],\n",
    "    \"min_samples_leaf\": [5, 10, 20]\n",
    "}\n",
    "\n",
    "# Set up GridSearchCV, optimizing churn recall\n",
    "grid_dt = GridSearchCV(\n",
    "    DecisionTreeClassifier(class_weight='balanced', random_state=42),\n",
    "    param_grid,\n",
    "    cv=5,\n",
    "    scoring='recall',\n",
    "    n_jobs=-1  # parallelize on all cores\n",
    ")\n",
    "\n",
    "# Fit to the training data\n",
    "grid_dt.fit(X_train, y_train)\n",
    "\n",
    "# Extract the best estimator and its CV score\n",
    "best_dt = grid_dt.best_estimator_\n",
    "best_params = grid_dt.best_params_\n",
    "best_cv_recall = grid_dt.best_score_\n",
    "\n",
    "print(\"Best parameters:\", best_params)\n",
    "print(f\"Best CV recall (churn): {best_cv_recall:.2f}\")"
   ]
  },
  {
   "cell_type": "code",
   "execution_count": 98,
   "metadata": {},
   "outputs": [
    {
     "name": "stdout",
     "output_type": "stream",
     "text": [
      "Tuned DT ROC-AUC: 0.83\n",
      "\n",
      "              precision    recall  f1-score   support\n",
      "\n",
      "  Stayed (0)       0.96      0.92      0.94       570\n",
      " Churned (1)       0.61      0.75      0.68        97\n",
      "\n",
      "    accuracy                           0.90       667\n",
      "   macro avg       0.78      0.84      0.81       667\n",
      "weighted avg       0.91      0.90      0.90       667\n",
      "\n"
     ]
    }
   ],
   "source": [
    "# Evaluate on the test set\n",
    "y_pred_dt2  = best_dt.predict(X_test)\n",
    "y_proba_dt2 = best_dt.predict_proba(X_test)[:, 1]\n",
    "\n",
    "dt2_rec  = recall_score(y_test, y_pred_dt2)\n",
    "dt2_prec = precision_score(y_test, y_pred_dt2)\n",
    "dt2_f1   = f1_score(y_test, y_pred_dt2)\n",
    "dt2_auc  = roc_auc_score(y_test, y_proba_dt2)\n",
    "\n",
    "print(f\"Tuned DT ROC-AUC: {dt2_auc:.2f}\\n\")\n",
    "print(classification_report(\n",
    "    y_test,\n",
    "    y_pred_dt2,\n",
    "    target_names=['Stayed (0)', 'Churned (1)']\n",
    "))"
   ]
  },
  {
   "cell_type": "markdown",
   "metadata": {},
   "source": [
    "##### Interpretation of Tuned Decision Tree\n",
    "\n",
    "- **Stayed (0)**\n",
    "  - **Precision = 0.96**: Of all customers the tuned tree predicted would stay, 96% actually stayed (very few false‐stay alarms).\n",
    "  - **Recall = 0.92**: We correctly identify 92% of all true stayers.\n",
    "  - **F1-score = 0.94**: Excellent balance on the majority class.\n",
    "  - **Support = 570** stayed customers.\n",
    "\n",
    "- **Churned (1)**\n",
    "  - **Precision = 0.61**: 61% of those flagged as churners truly churned (cut false‐positive rate slightly vs. baseline).\n",
    "  - **Recall = 0.75**: We now catch 75% of all churners (up from 72%).\n",
    "  - **F1-score = 0.68**: Overall better balance on the minority class.\n",
    "  - **Support = 97** churned customers.\n",
    "\n",
    "- **Overall**\n",
    "  - **ROC-AUC = 0.83** (↑ from 0.80)  \n",
    "  - **Accuracy = 0.90**  \n",
    "  - **Macro F1 = 0.81**  \n",
    "\n",
    "**Key takeaway:** Tuning improved our tree’s ability to rank churners (ROC-AUC ↑ 0.03) and catch more of them (recall ↑ 0.03) while keeping a high precision on stayers. I’ve found a good sweet-spot between under-fitting and over-fitting."
   ]
  },
  {
   "cell_type": "markdown",
   "metadata": {},
   "source": [
    "#### 5.6 Model Comparison: ROC Curves & Metrics\n",
    "\n",
    "I'll overlay each model’s ROC curve and tabulate their key scores so I can pick the best performer at a glance."
   ]
  },
  {
   "cell_type": "code",
   "execution_count": 99,
   "metadata": {},
   "outputs": [
    {
     "data": {
      "image/png": "[encoded data removed]",
      "text/plain": [
       "<Figure size 600x500 with 1 Axes>"
      ]
     },
     "metadata": {},
     "output_type": "display_data"
    }
   ],
   "source": [
    "# after fitting each model earlier\n",
    "y_proba_lr = lr.predict_proba(X_test)[:, 1]\n",
    "y_proba_rf = rf.predict_proba(X_test)[:, 1]\n",
    "y_proba_gb = gb.predict_proba(X_test)[:, 1]\n",
    "\n",
    "# Building a small dict mapping names to those probability arrays:\n",
    "models = {\n",
    "    \"Logistic\": y_proba_lr,\n",
    "    \"RandomForest\": y_proba_rf,\n",
    "    \"GradientBoost\": y_proba_gb\n",
    "}\n",
    "# Plot all ROC curves in one figure, computing each AUC\n",
    "plt.figure(figsize=(6, 5))\n",
    "for name, y_proba in models.items():\n",
    "    fpr, tpr, _ = roc_curve(y_test, y_proba)\n",
    "    auc_score = roc_auc_score(y_test, y_proba)\n",
    "    plt.plot(fpr, tpr, label=f\"{name} (AUC={auc_score:.2f})\");\n",
    "\n",
    "# dashed 45° line for reference\n",
    "plt.plot([0, 1], [0, 1], \"--\", alpha=0.4)\n",
    "\n",
    "plt.xlabel(\"False Positive Rate\")\n",
    "plt.ylabel(\"True Positive Rate\")\n",
    "plt.title(\"ROC Curves Comparison\")\n",
    "plt.legend(loc=\"lower right\")\n",
    "plt.tight_layout()\n",
    "plt.show()"
   ]
  },
  {
   "cell_type": "markdown",
   "metadata": {},
   "source": [
    "The ROC plot above shows:\n",
    "\n",
    "- **Logistic Regression** (blue) has AUC = 0.80, lagging behind the other two.\n",
    "- **Random Forest** (orange) jumps to AUC = 0.89;much stronger separation.\n",
    "- **Gradient Boosting** (green) edges out with AUC = 0.90, our top performer.\n",
    "\n",
    "**Key takeaway:**  \n",
    "Gradient Boosting offers the best trade-off between sensitivity and specificity for predicting churn."
   ]
  },
  {
   "cell_type": "code",
   "execution_count": 100,
   "metadata": {},
   "outputs": [
    {
     "data": {
      "application/vnd.microsoft.datawrangler.viewer.v0+json": {
       "columns": [
        {
         "name": "model",
         "rawType": "object",
         "type": "string"
        },
        {
         "name": "recall",
         "rawType": "float64",
         "type": "float"
        },
        {
         "name": "precision",
         "rawType": "float64",
         "type": "float"
        },
        {
         "name": "f1_score",
         "rawType": "float64",
         "type": "float"
        },
        {
         "name": "roc_auc",
         "rawType": "float64",
         "type": "float"
        }
       ],
       "ref": "fbc4863e-9490-4413-bb96-4f1a8a373d4b",
       "rows": [
        [
         "Logistic",
         "0.7",
         "0.33",
         "0.44",
         "0.8"
        ],
        [
         "RandomForest",
         "0.64",
         "0.73",
         "0.68",
         "0.89"
        ],
        [
         "GradientBoost",
         "0.78",
         "0.8",
         "0.79",
         "0.9"
        ]
       ],
       "shape": {
        "columns": 4,
        "rows": 3
       }
      },
      "text/html": [
       "<div>\n",
       "<style scoped>\n",
       "    .dataframe tbody tr th:only-of-type {\n",
       "        vertical-align: middle;\n",
       "    }\n",
       "\n",
       "    .dataframe tbody tr th {\n",
       "        vertical-align: top;\n",
       "    }\n",
       "\n",
       "    .dataframe thead th {\n",
       "        text-align: right;\n",
       "    }\n",
       "</style>\n",
       "<table border=\"1\" class=\"dataframe\">\n",
       "  <thead>\n",
       "    <tr style=\"text-align: right;\">\n",
       "      <th></th>\n",
       "      <th>recall</th>\n",
       "      <th>precision</th>\n",
       "      <th>f1_score</th>\n",
       "      <th>roc_auc</th>\n",
       "    </tr>\n",
       "    <tr>\n",
       "      <th>model</th>\n",
       "      <th></th>\n",
       "      <th></th>\n",
       "      <th></th>\n",
       "      <th></th>\n",
       "    </tr>\n",
       "  </thead>\n",
       "  <tbody>\n",
       "    <tr>\n",
       "      <th>Logistic</th>\n",
       "      <td>0.70</td>\n",
       "      <td>0.33</td>\n",
       "      <td>0.44</td>\n",
       "      <td>0.80</td>\n",
       "    </tr>\n",
       "    <tr>\n",
       "      <th>RandomForest</th>\n",
       "      <td>0.64</td>\n",
       "      <td>0.73</td>\n",
       "      <td>0.68</td>\n",
       "      <td>0.89</td>\n",
       "    </tr>\n",
       "    <tr>\n",
       "      <th>GradientBoost</th>\n",
       "      <td>0.78</td>\n",
       "      <td>0.80</td>\n",
       "      <td>0.79</td>\n",
       "      <td>0.90</td>\n",
       "    </tr>\n",
       "  </tbody>\n",
       "</table>\n",
       "</div>"
      ],
      "text/plain": [
       "               recall  precision  f1_score  roc_auc\n",
       "model                                              \n",
       "Logistic         0.70       0.33      0.44     0.80\n",
       "RandomForest     0.64       0.73      0.68     0.89\n",
       "GradientBoost    0.78       0.80      0.79     0.90"
      ]
     },
     "execution_count": 100,
     "metadata": {},
     "output_type": "execute_result"
    }
   ],
   "source": [
    "# Building a summary table for easy reference\n",
    "\n",
    "# build a dict mapping names → (y_pred, y_proba) tuples\n",
    "predictions = {\n",
    "    'Logistic':    (lr.predict(X_test),   y_proba_lr),\n",
    "    'RandomForest':(rf.predict(X_test),   y_proba_rf),\n",
    "    'GradientBoost':(gb.predict(X_test),  y_proba_gb),\n",
    "}\n",
    "\n",
    "# looping over that to build a list of rows\n",
    "rows = []\n",
    "for name, (y_pred, y_proba) in predictions.items():\n",
    "    rows.append({\n",
    "        'model'     : name,\n",
    "        'recall'    : recall_score(   y_test, y_pred),\n",
    "        'precision' : precision_score(y_test, y_pred),\n",
    "        'f1_score'  : f1_score(      y_test, y_pred),\n",
    "        'roc_auc'   : roc_auc_score( y_test, y_proba),\n",
    "    })\n",
    "\n",
    "summary_df = pd.DataFrame(rows).set_index('model').round(2)\n",
    "summary_df"
   ]
  },
  {
   "cell_type": "markdown",
   "metadata": {},
   "source": [
    "## 5.7 Final Model Evaluation\n",
    "\n",
    "Below I will pull out my final **GradientBoosting** results from the hold out test set, then justify  metric choice and discuss real world implications."
   ]
  },
  {
   "cell_type": "code",
   "execution_count": 101,
   "metadata": {},
   "outputs": [
    {
     "name": "stdout",
     "output_type": "stream",
     "text": [
      "GradientBoosting Test‑Set Metrics:\n",
      "\n",
      "           Value\n",
      "recall      0.78\n",
      "precision   0.80\n",
      "f1_score    0.79\n",
      "roc_auc     0.90\n"
     ]
    }
   ],
   "source": [
    "# Select the GradientBoosting metrics\n",
    "gb_metrics = summary_df.loc['GradientBoost']\n",
    "\n",
    "# Display them neatly\n",
    "print(\"GradientBoosting Test‑Set Metrics:\\n\")\n",
    "print(gb_metrics.to_frame(name=\"Value\").round(2))"
   ]
  },
  {
   "cell_type": "markdown",
   "metadata": {},
   "source": [
    "### Assumptions\n",
    "\n",
    "- **Average customer lifetime value (LTV):** \\$150  \n",
    "- **Cost per retention offer:** \\$5  \n",
    "\n",
    "### Metric focus\n",
    "\n",
    "Assuming an LTV of \\$150 and an offer cost of \\$5, we prioritize **Recall** (0.78) because failing to identify a churner (false negative) loses us \\$150 in revenue, whereas mistakenly targeting a loyal customer (false positive) costs only \\$5 in incentives.\n",
    "\n",
    "### Business impact\n",
    "\n",
    "On 2,000 test customers (20% actual churners → 400 churners):  \n",
    "- **True churners detected:** 0.78 × 400 ≈ 312 customers → prevents 312 × \\$150 = **\\$46,800** in lost revenue  \n",
    "- **Extra offers sent to non‑churners:** (1 – 0.78) × 400 ≈ 88 × \\$5 = **\\$440** in incremental cost  \n",
    "\n",
    "### Limitations & next steps\n",
    "\n",
    "With Precision = 0.80, 20% of outreach goes to non‑churners. If costs rise or offer fatigue appears, we should explore cost sensitive tuning or more targeted messaging."
   ]
  },
  {
   "cell_type": "markdown",
   "metadata": {},
   "source": [
    "## 6. Conclusion & Recommendations\n",
    "\n",
    "This analysis confirms that customer churn at SyriaTel is not random but is driven by identifiable behaviors and attributes. The findings from the exploratory analysis provide a clear narrative, and the final predictive model offers a powerful tool to act on these insights.\n",
    "\n",
    "### Recommendations Based on Research Questions\n",
    "\n",
    "The following recommendations are direct answers to the research questions posed at the beginning of this project, based on the Exploratory Data Analysis (EDA).\n",
    "\n",
    "**1. Does a high volume of calls or tickets correlate with higher churn risk?**\n",
    "* **Finding:** Yes, a high number of customer service calls is a strong predictor of churn. The EDA showed that customers who churned had a median of 2 support calls, compared to just 1 for customers who stayed.\n",
    "* **Recommendation:** Implement an automated alert for the Customer Retention Team when a customer logs their second service call in a quarter. This \"High-Touch\" flag ensures these customers receive specialized attention to resolve their issues before they decide to leave.\n",
    "\n",
    "**2. How does actual usage (minutes) predict churn?**\n",
    "* **Finding:** Under-utilization of plan minutes is a significant churn signal. Across day, evening, and night usage, customers who churned consistently showed lower average usage than those who stayed.\n",
    "* **Recommendation:** Launch an engagement campaign targeting customers in the lowest 25th percentile of usage. Offer them a \"plan right-sizing\" consultation to move them to a more appropriate, cost-effective plan, thereby increasing customer satisfaction and value perception.\n",
    "\n",
    "**3. Are there specific regions where churn is significantly above average?**\n",
    "* **Finding:** Yes, churn is geographically concentrated. States like **New Jersey, California, Texas, and Maryland** showed churn rates nearly double the company average.\n",
    "* **Recommendation:** Allocate a portion of the retention budget to run targeted campaigns in these \"hotspot\" states. Regional offers or improved local service could have an outsized impact on the overall churn rate.\n",
    "\n",
    "**4. How do contract length and tenure buckets affect churn probability?**\n",
    "* **Finding:** While not the strongest predictor, tenure does play a role. The churner group had a slightly lower median account length and a wider distribution, indicating that both newer and very long-term customers can be at risk.\n",
    "* **Recommendation:** Create distinct retention strategies for different tenure buckets. Focus on robust onboarding and support for customers in their first year, and offer loyalty perks or plan upgrades for customers with tenures over four years (49+ months).\n",
    "\n",
    "**5. Can we derive other early warning features?**\n",
    "* **Finding:** Yes, plan features are predictive. Customers with an **international plan** are significantly more likely to churn.\n",
    "* **Recommendation:** The Marketing Department should immediately review the value proposition and pricing of the international plan. It may be overpriced or not meeting the needs of its target users, causing them to seek alternatives.\n",
    "\n",
    "---\n",
    "\n",
    "\n",
    "### Model Selection: **Gradient Boosting Classifier**\n",
    "While multiple models provided predictive value, the **Gradient Boosting model** is the clear recommendation for deployment. It delivered the best balance of performance, making it the most effective tool for SyriaTel's business goals.\n",
    "\n",
    "* **Superior Performance:** It achieved the highest scores across all key metrics: **78% Recall**, **80% Precision**, and a **ROC-AUC of 0.90**.\n",
    "* **Business Value of High Recall:** The model's primary value is its ability to cast a wide, accurate net. Compared to the next best model (Random Forest), its recall was significantly higher (78% vs. 64%). In practical terms, this means **for every 100 customers who are about to churn, the Gradient Boosting model successfully flags 14 more than the alternative.**\n",
    "* **Optimal Precision-Recall Balance:** Unlike the initial baseline model which had high recall but very low precision (33%), the Gradient Boosting model achieves its high recall without making excessive false predictions. An 80% precision rate ensures that the retention team's efforts are focused and cost-effective.\n",
    "\n",
    "### Actionable Recommendations\n",
    "\n",
    "* **For the Customer Retention Team:** The model should be deployed to generate a **prioritized weekly list of at-risk customers**. The model's probability score can be used to rank customers, allowing the team to focus their efforts on the individuals most likely to churn first.\n",
    "* **For the Marketing Department:** The model’s key predictors **high day charges** and **international plan enrollment** should be used to design targeted, proactive campaigns. For instance, customers flagged for high day usage can be automatically offered a \"plan right-sizing\" consultation.\n",
    "\n",
    "### Limitations and Next Steps\n",
    "\n",
    "* **Limitations:**\n",
    "    * **False Positives:** With 80% precision, the model will still incorrectly flag 20% of customers as likely to churn. This means some retention offers will be made to customers who had no intention of leaving, representing a manageable business cost.\n",
    "    * **Feature Scope:** The model's predictions are based solely on the available customer usage and account data. Other external factors not included in this dataset, such as competitor actions or customer satisfaction scores, could also influence churn.\n",
    "* **Next Steps:**\n",
    "\n",
    "1. **Threshold Optimization**  \n",
    "   Tune the decision threshold to balance the cost of retention offers against the revenue saved per retained customer. Define the optimal cutoff by modeling various cost–benefit scenarios.\n",
    "\n",
    "2. **Continuous Monitoring & Maintenance**  \n",
    "   - Track key metrics (recall, precision, ROC-AUC) and feature distributions on a quarterly basis.  \n",
    "   - Set up automated alerts for data drift or performance degradation and schedule retraining when thresholds are breached.\n",
    "\n",
    "3. **Advanced Feature Engineering**  \n",
    "   - **Usage Ratios**  \n",
    "     ```\n",
    "     avg_day_call_length = total_day_minutes / total_day_calls\n",
    "\n",
    "     ```  \n",
    "     Captures call quality vs. volume and flags potential service issues.  \n",
    "   - **Total Customer Engagement**  \n",
    "     ```\n",
    "     total_minutes = total_day_minutes + total_eve_minutes + total_night_minutes\n",
    "     ```  \n",
    "     Provides a single metric for overall network usage.  \n",
    "   - **Interaction Terms**  \n",
    "     Explore combinations such as:  \n",
    "     - `(international_plan, customer_service_calls)`  \n",
    "     - `(voice_mail_plan, avg_day_call_length)`  \n",
    "     to reveal high-risk segments not apparent from individual features. \n",
    "\n",
    "* **Utilize More Advanced Models**: While the `HistGradientBoostingClassifier` performed very well, further improvements could be explored with other advanced modeling techniques. Future iterations could test:\n",
    "    * **Specialized Boosting Libraries**: Implementing models using libraries like **XGBoost**, **LightGBM**, or **CatBoost**. These often provide performance gains and more tuning flexibility.\n",
    "    * **Model Ensembling**: Using techniques like **stacking**, where the predictions from several top models (e.g., Logistic Regression and Gradient Boosting) are combined to create a more robust \"meta model.\""
   ]
  }
 ],
 "metadata": {
  "kernelspec": {
   "display_name": "Python (myvenv)",
   "language": "python",
   "name": "myvenv"
  },
  "language_info": {
   "codemirror_mode": {
    "name": "ipython",
    "version": 3
   },
   "file_extension": ".py",
   "mimetype": "text/x-python",
   "name": "python",
   "nbconvert_exporter": "python",
   "pygments_lexer": "ipython3",
   "version": "3.12.7"
  }
 },
 "nbformat": 4,
 "nbformat_minor": 5
}
